{
 "cells": [
  {
   "cell_type": "code",
   "execution_count": 1,
   "metadata": {},
   "outputs": [],
   "source": [
    "import pandas as pd\n",
    "import yfinance as yf\n",
    "import os\n",
    "from datetime import datetime"
   ]
  },
  {
   "cell_type": "code",
   "execution_count": 2,
   "metadata": {},
   "outputs": [],
   "source": [
    "# Define paths\n",
    "nifty_500_csv_path = r'D:\\rupeelog\\repo\\projectdata\\code\\live_data\\ind_nifty500list.csv'\n",
    "data_dir = 'stock_data'\n",
    "os.makedirs(data_dir, exist_ok=True)"
   ]
  },
  {
   "cell_type": "code",
   "execution_count": 3,
   "metadata": {},
   "outputs": [
    {
     "data": {
      "text/html": [
       "<div>\n",
       "<style scoped>\n",
       "    .dataframe tbody tr th:only-of-type {\n",
       "        vertical-align: middle;\n",
       "    }\n",
       "\n",
       "    .dataframe tbody tr th {\n",
       "        vertical-align: top;\n",
       "    }\n",
       "\n",
       "    .dataframe thead th {\n",
       "        text-align: right;\n",
       "    }\n",
       "</style>\n",
       "<table border=\"1\" class=\"dataframe\">\n",
       "  <thead>\n",
       "    <tr style=\"text-align: right;\">\n",
       "      <th></th>\n",
       "      <th>Company Name</th>\n",
       "      <th>Industry</th>\n",
       "      <th>Symbol</th>\n",
       "      <th>Series</th>\n",
       "      <th>ISIN Code</th>\n",
       "    </tr>\n",
       "  </thead>\n",
       "  <tbody>\n",
       "    <tr>\n",
       "      <th>0</th>\n",
       "      <td>360 ONE WAM Ltd.</td>\n",
       "      <td>Financial Services</td>\n",
       "      <td>360ONE</td>\n",
       "      <td>EQ</td>\n",
       "      <td>INE466L01038</td>\n",
       "    </tr>\n",
       "    <tr>\n",
       "      <th>1</th>\n",
       "      <td>3M India Ltd.</td>\n",
       "      <td>Diversified</td>\n",
       "      <td>3MINDIA</td>\n",
       "      <td>EQ</td>\n",
       "      <td>INE470A01017</td>\n",
       "    </tr>\n",
       "    <tr>\n",
       "      <th>2</th>\n",
       "      <td>ABB India Ltd.</td>\n",
       "      <td>Capital Goods</td>\n",
       "      <td>ABB</td>\n",
       "      <td>EQ</td>\n",
       "      <td>INE117A01022</td>\n",
       "    </tr>\n",
       "    <tr>\n",
       "      <th>3</th>\n",
       "      <td>ACC Ltd.</td>\n",
       "      <td>Construction Materials</td>\n",
       "      <td>ACC</td>\n",
       "      <td>EQ</td>\n",
       "      <td>INE012A01025</td>\n",
       "    </tr>\n",
       "    <tr>\n",
       "      <th>4</th>\n",
       "      <td>AIA Engineering Ltd.</td>\n",
       "      <td>Capital Goods</td>\n",
       "      <td>AIAENG</td>\n",
       "      <td>EQ</td>\n",
       "      <td>INE212H01026</td>\n",
       "    </tr>\n",
       "  </tbody>\n",
       "</table>\n",
       "</div>"
      ],
      "text/plain": [
       "           Company Name                Industry   Symbol Series     ISIN Code\n",
       "0      360 ONE WAM Ltd.      Financial Services   360ONE     EQ  INE466L01038\n",
       "1         3M India Ltd.             Diversified  3MINDIA     EQ  INE470A01017\n",
       "2        ABB India Ltd.           Capital Goods      ABB     EQ  INE117A01022\n",
       "3              ACC Ltd.  Construction Materials      ACC     EQ  INE012A01025\n",
       "4  AIA Engineering Ltd.           Capital Goods   AIAENG     EQ  INE212H01026"
      ]
     },
     "execution_count": 3,
     "metadata": {},
     "output_type": "execute_result"
    }
   ],
   "source": [
    "def read_nifty_500_from_csv(csv_path):\n",
    "    \"\"\"Read Nifty 500 stock list from a CSV file.\"\"\"\n",
    "    df = pd.read_csv(csv_path)\n",
    "    return df\n",
    "\n",
    "# Load the data\n",
    "nifty_500_df = read_nifty_500_from_csv(nifty_500_csv_path)\n",
    "nifty_500_df.head()  # Display the first few rows to verify"
   ]
  },
  {
   "cell_type": "markdown",
   "metadata": {},
   "source": [
    "# master csv list"
   ]
  },
  {
   "cell_type": "code",
   "execution_count": 4,
   "metadata": {},
   "outputs": [
    {
     "name": "stdout",
     "output_type": "stream",
     "text": [
      "Sector-wise tickers prepared.\n"
     ]
    },
    {
     "ename": "PermissionError",
     "evalue": "[Errno 13] Permission denied: 'D:/wall street/stock_data/sector_wise_tickers.csv'",
     "output_type": "error",
     "traceback": [
      "\u001b[1;31m---------------------------------------------------------------------------\u001b[0m",
      "\u001b[1;31mPermissionError\u001b[0m                           Traceback (most recent call last)",
      "Cell \u001b[1;32mIn[4], line 31\u001b[0m\n\u001b[0;32m     28\u001b[0m csv_output_file \u001b[38;5;241m=\u001b[39m \u001b[38;5;124m'\u001b[39m\u001b[38;5;124mD:/wall street/stock_data/sector_wise_tickers.csv\u001b[39m\u001b[38;5;124m'\u001b[39m\n\u001b[0;32m     30\u001b[0m \u001b[38;5;66;03m# Save the sector-wise tickers to a CSV file\u001b[39;00m\n\u001b[1;32m---> 31\u001b[0m save_sector_tickers_to_csv(sector_tickers, csv_output_file)\n",
      "Cell \u001b[1;32mIn[4], line 16\u001b[0m, in \u001b[0;36msave_sector_tickers_to_csv\u001b[1;34m(sector_tickers, output_file)\u001b[0m\n\u001b[0;32m     12\u001b[0m sector_df \u001b[38;5;241m=\u001b[39m pd\u001b[38;5;241m.\u001b[39mDataFrame([(sector, \u001b[38;5;124m'\u001b[39m\u001b[38;5;124m, \u001b[39m\u001b[38;5;124m'\u001b[39m\u001b[38;5;241m.\u001b[39mjoin(tickers)) \u001b[38;5;28;01mfor\u001b[39;00m sector, tickers \u001b[38;5;129;01min\u001b[39;00m sector_tickers\u001b[38;5;241m.\u001b[39mitems()],\n\u001b[0;32m     13\u001b[0m                          columns\u001b[38;5;241m=\u001b[39m[\u001b[38;5;124m'\u001b[39m\u001b[38;5;124mIndustry\u001b[39m\u001b[38;5;124m'\u001b[39m, \u001b[38;5;124m'\u001b[39m\u001b[38;5;124mTickers\u001b[39m\u001b[38;5;124m'\u001b[39m])\n\u001b[0;32m     15\u001b[0m \u001b[38;5;66;03m# Save DataFrame to a CSV file\u001b[39;00m\n\u001b[1;32m---> 16\u001b[0m sector_df\u001b[38;5;241m.\u001b[39mto_csv(output_file, index\u001b[38;5;241m=\u001b[39m\u001b[38;5;28;01mFalse\u001b[39;00m)\n\u001b[0;32m     17\u001b[0m \u001b[38;5;28mprint\u001b[39m(\u001b[38;5;124mf\u001b[39m\u001b[38;5;124m\"\u001b[39m\u001b[38;5;124mSector-wise tickers saved to \u001b[39m\u001b[38;5;132;01m{\u001b[39;00moutput_file\u001b[38;5;132;01m}\u001b[39;00m\u001b[38;5;124m\"\u001b[39m)\n",
      "File \u001b[1;32mc:\\Users\\asus\\anaconda3\\Lib\\site-packages\\pandas\\core\\generic.py:3902\u001b[0m, in \u001b[0;36mNDFrame.to_csv\u001b[1;34m(self, path_or_buf, sep, na_rep, float_format, columns, header, index, index_label, mode, encoding, compression, quoting, quotechar, lineterminator, chunksize, date_format, doublequote, escapechar, decimal, errors, storage_options)\u001b[0m\n\u001b[0;32m   3891\u001b[0m df \u001b[38;5;241m=\u001b[39m \u001b[38;5;28mself\u001b[39m \u001b[38;5;28;01mif\u001b[39;00m \u001b[38;5;28misinstance\u001b[39m(\u001b[38;5;28mself\u001b[39m, ABCDataFrame) \u001b[38;5;28;01melse\u001b[39;00m \u001b[38;5;28mself\u001b[39m\u001b[38;5;241m.\u001b[39mto_frame()\n\u001b[0;32m   3893\u001b[0m formatter \u001b[38;5;241m=\u001b[39m DataFrameFormatter(\n\u001b[0;32m   3894\u001b[0m     frame\u001b[38;5;241m=\u001b[39mdf,\n\u001b[0;32m   3895\u001b[0m     header\u001b[38;5;241m=\u001b[39mheader,\n\u001b[1;32m   (...)\u001b[0m\n\u001b[0;32m   3899\u001b[0m     decimal\u001b[38;5;241m=\u001b[39mdecimal,\n\u001b[0;32m   3900\u001b[0m )\n\u001b[1;32m-> 3902\u001b[0m \u001b[38;5;28;01mreturn\u001b[39;00m DataFrameRenderer(formatter)\u001b[38;5;241m.\u001b[39mto_csv(\n\u001b[0;32m   3903\u001b[0m     path_or_buf,\n\u001b[0;32m   3904\u001b[0m     lineterminator\u001b[38;5;241m=\u001b[39mlineterminator,\n\u001b[0;32m   3905\u001b[0m     sep\u001b[38;5;241m=\u001b[39msep,\n\u001b[0;32m   3906\u001b[0m     encoding\u001b[38;5;241m=\u001b[39mencoding,\n\u001b[0;32m   3907\u001b[0m     errors\u001b[38;5;241m=\u001b[39merrors,\n\u001b[0;32m   3908\u001b[0m     compression\u001b[38;5;241m=\u001b[39mcompression,\n\u001b[0;32m   3909\u001b[0m     quoting\u001b[38;5;241m=\u001b[39mquoting,\n\u001b[0;32m   3910\u001b[0m     columns\u001b[38;5;241m=\u001b[39mcolumns,\n\u001b[0;32m   3911\u001b[0m     index_label\u001b[38;5;241m=\u001b[39mindex_label,\n\u001b[0;32m   3912\u001b[0m     mode\u001b[38;5;241m=\u001b[39mmode,\n\u001b[0;32m   3913\u001b[0m     chunksize\u001b[38;5;241m=\u001b[39mchunksize,\n\u001b[0;32m   3914\u001b[0m     quotechar\u001b[38;5;241m=\u001b[39mquotechar,\n\u001b[0;32m   3915\u001b[0m     date_format\u001b[38;5;241m=\u001b[39mdate_format,\n\u001b[0;32m   3916\u001b[0m     doublequote\u001b[38;5;241m=\u001b[39mdoublequote,\n\u001b[0;32m   3917\u001b[0m     escapechar\u001b[38;5;241m=\u001b[39mescapechar,\n\u001b[0;32m   3918\u001b[0m     storage_options\u001b[38;5;241m=\u001b[39mstorage_options,\n\u001b[0;32m   3919\u001b[0m )\n",
      "File \u001b[1;32mc:\\Users\\asus\\anaconda3\\Lib\\site-packages\\pandas\\io\\formats\\format.py:1152\u001b[0m, in \u001b[0;36mDataFrameRenderer.to_csv\u001b[1;34m(self, path_or_buf, encoding, sep, columns, index_label, mode, compression, quoting, quotechar, lineterminator, chunksize, date_format, doublequote, escapechar, errors, storage_options)\u001b[0m\n\u001b[0;32m   1131\u001b[0m     created_buffer \u001b[38;5;241m=\u001b[39m \u001b[38;5;28;01mFalse\u001b[39;00m\n\u001b[0;32m   1133\u001b[0m csv_formatter \u001b[38;5;241m=\u001b[39m CSVFormatter(\n\u001b[0;32m   1134\u001b[0m     path_or_buf\u001b[38;5;241m=\u001b[39mpath_or_buf,\n\u001b[0;32m   1135\u001b[0m     lineterminator\u001b[38;5;241m=\u001b[39mlineterminator,\n\u001b[1;32m   (...)\u001b[0m\n\u001b[0;32m   1150\u001b[0m     formatter\u001b[38;5;241m=\u001b[39m\u001b[38;5;28mself\u001b[39m\u001b[38;5;241m.\u001b[39mfmt,\n\u001b[0;32m   1151\u001b[0m )\n\u001b[1;32m-> 1152\u001b[0m csv_formatter\u001b[38;5;241m.\u001b[39msave()\n\u001b[0;32m   1154\u001b[0m \u001b[38;5;28;01mif\u001b[39;00m created_buffer:\n\u001b[0;32m   1155\u001b[0m     \u001b[38;5;28;01massert\u001b[39;00m \u001b[38;5;28misinstance\u001b[39m(path_or_buf, StringIO)\n",
      "File \u001b[1;32mc:\\Users\\asus\\anaconda3\\Lib\\site-packages\\pandas\\io\\formats\\csvs.py:247\u001b[0m, in \u001b[0;36mCSVFormatter.save\u001b[1;34m(self)\u001b[0m\n\u001b[0;32m    243\u001b[0m \u001b[38;5;250m\u001b[39m\u001b[38;5;124;03m\"\"\"\u001b[39;00m\n\u001b[0;32m    244\u001b[0m \u001b[38;5;124;03mCreate the writer & save.\u001b[39;00m\n\u001b[0;32m    245\u001b[0m \u001b[38;5;124;03m\"\"\"\u001b[39;00m\n\u001b[0;32m    246\u001b[0m \u001b[38;5;66;03m# apply compression and byte/text conversion\u001b[39;00m\n\u001b[1;32m--> 247\u001b[0m \u001b[38;5;28;01mwith\u001b[39;00m get_handle(\n\u001b[0;32m    248\u001b[0m     \u001b[38;5;28mself\u001b[39m\u001b[38;5;241m.\u001b[39mfilepath_or_buffer,\n\u001b[0;32m    249\u001b[0m     \u001b[38;5;28mself\u001b[39m\u001b[38;5;241m.\u001b[39mmode,\n\u001b[0;32m    250\u001b[0m     encoding\u001b[38;5;241m=\u001b[39m\u001b[38;5;28mself\u001b[39m\u001b[38;5;241m.\u001b[39mencoding,\n\u001b[0;32m    251\u001b[0m     errors\u001b[38;5;241m=\u001b[39m\u001b[38;5;28mself\u001b[39m\u001b[38;5;241m.\u001b[39merrors,\n\u001b[0;32m    252\u001b[0m     compression\u001b[38;5;241m=\u001b[39m\u001b[38;5;28mself\u001b[39m\u001b[38;5;241m.\u001b[39mcompression,\n\u001b[0;32m    253\u001b[0m     storage_options\u001b[38;5;241m=\u001b[39m\u001b[38;5;28mself\u001b[39m\u001b[38;5;241m.\u001b[39mstorage_options,\n\u001b[0;32m    254\u001b[0m ) \u001b[38;5;28;01mas\u001b[39;00m handles:\n\u001b[0;32m    255\u001b[0m     \u001b[38;5;66;03m# Note: self.encoding is irrelevant here\u001b[39;00m\n\u001b[0;32m    256\u001b[0m     \u001b[38;5;28mself\u001b[39m\u001b[38;5;241m.\u001b[39mwriter \u001b[38;5;241m=\u001b[39m csvlib\u001b[38;5;241m.\u001b[39mwriter(\n\u001b[0;32m    257\u001b[0m         handles\u001b[38;5;241m.\u001b[39mhandle,\n\u001b[0;32m    258\u001b[0m         lineterminator\u001b[38;5;241m=\u001b[39m\u001b[38;5;28mself\u001b[39m\u001b[38;5;241m.\u001b[39mlineterminator,\n\u001b[1;32m   (...)\u001b[0m\n\u001b[0;32m    263\u001b[0m         quotechar\u001b[38;5;241m=\u001b[39m\u001b[38;5;28mself\u001b[39m\u001b[38;5;241m.\u001b[39mquotechar,\n\u001b[0;32m    264\u001b[0m     )\n\u001b[0;32m    266\u001b[0m     \u001b[38;5;28mself\u001b[39m\u001b[38;5;241m.\u001b[39m_save()\n",
      "File \u001b[1;32mc:\\Users\\asus\\anaconda3\\Lib\\site-packages\\pandas\\io\\common.py:863\u001b[0m, in \u001b[0;36mget_handle\u001b[1;34m(path_or_buf, mode, encoding, compression, memory_map, is_text, errors, storage_options)\u001b[0m\n\u001b[0;32m    858\u001b[0m \u001b[38;5;28;01melif\u001b[39;00m \u001b[38;5;28misinstance\u001b[39m(handle, \u001b[38;5;28mstr\u001b[39m):\n\u001b[0;32m    859\u001b[0m     \u001b[38;5;66;03m# Check whether the filename is to be opened in binary mode.\u001b[39;00m\n\u001b[0;32m    860\u001b[0m     \u001b[38;5;66;03m# Binary mode does not support 'encoding' and 'newline'.\u001b[39;00m\n\u001b[0;32m    861\u001b[0m     \u001b[38;5;28;01mif\u001b[39;00m ioargs\u001b[38;5;241m.\u001b[39mencoding \u001b[38;5;129;01mand\u001b[39;00m \u001b[38;5;124m\"\u001b[39m\u001b[38;5;124mb\u001b[39m\u001b[38;5;124m\"\u001b[39m \u001b[38;5;129;01mnot\u001b[39;00m \u001b[38;5;129;01min\u001b[39;00m ioargs\u001b[38;5;241m.\u001b[39mmode:\n\u001b[0;32m    862\u001b[0m         \u001b[38;5;66;03m# Encoding\u001b[39;00m\n\u001b[1;32m--> 863\u001b[0m         handle \u001b[38;5;241m=\u001b[39m \u001b[38;5;28mopen\u001b[39m(\n\u001b[0;32m    864\u001b[0m             handle,\n\u001b[0;32m    865\u001b[0m             ioargs\u001b[38;5;241m.\u001b[39mmode,\n\u001b[0;32m    866\u001b[0m             encoding\u001b[38;5;241m=\u001b[39mioargs\u001b[38;5;241m.\u001b[39mencoding,\n\u001b[0;32m    867\u001b[0m             errors\u001b[38;5;241m=\u001b[39merrors,\n\u001b[0;32m    868\u001b[0m             newline\u001b[38;5;241m=\u001b[39m\u001b[38;5;124m\"\u001b[39m\u001b[38;5;124m\"\u001b[39m,\n\u001b[0;32m    869\u001b[0m         )\n\u001b[0;32m    870\u001b[0m     \u001b[38;5;28;01melse\u001b[39;00m:\n\u001b[0;32m    871\u001b[0m         \u001b[38;5;66;03m# Binary mode\u001b[39;00m\n\u001b[0;32m    872\u001b[0m         handle \u001b[38;5;241m=\u001b[39m \u001b[38;5;28mopen\u001b[39m(handle, ioargs\u001b[38;5;241m.\u001b[39mmode)\n",
      "\u001b[1;31mPermissionError\u001b[0m: [Errno 13] Permission denied: 'D:/wall street/stock_data/sector_wise_tickers.csv'"
     ]
    }
   ],
   "source": [
    "import pandas as pd\n",
    "import os\n",
    "\n",
    "def prepare_sector_wise_data(df):\n",
    "    \"\"\"Prepare sector-wise data by grouping tickers by their sector.\"\"\"\n",
    "    sector_tickers = df.groupby('Industry')['Symbol'].apply(list).to_dict()\n",
    "    return sector_tickers\n",
    "\n",
    "def save_sector_tickers_to_csv(sector_tickers, output_file):\n",
    "    \"\"\"Save the sector-wise tickers to a CSV file.\"\"\"\n",
    "    # Prepare a DataFrame for the CSV export\n",
    "    sector_df = pd.DataFrame([(sector, ', '.join(tickers)) for sector, tickers in sector_tickers.items()],\n",
    "                             columns=['Industry', 'Tickers'])\n",
    "    \n",
    "    # Save DataFrame to a CSV file\n",
    "    sector_df.to_csv(output_file, index=False)\n",
    "    print(f\"Sector-wise tickers saved to {output_file}\")\n",
    "\n",
    "# Read the CSV file into a DataFrame\n",
    "csv_file_path = 'D:/rupeelog/repo/projectdata/code/live_data/ind_nifty500list.csv'\n",
    "nifty_500_df = pd.read_csv(csv_file_path)\n",
    "\n",
    "# Prepare sector-wise tickers\n",
    "sector_tickers = prepare_sector_wise_data(nifty_500_df)\n",
    "print(\"Sector-wise tickers prepared.\")\n",
    "\n",
    "# Define the file path for saving the CSV in the specified directory\n",
    "csv_output_file = 'D:/wall street/stock_data/sector_wise_tickers.csv'\n",
    "\n",
    "# Save the sector-wise tickers to a CSV file\n",
    "save_sector_tickers_to_csv(sector_tickers, csv_output_file)"
   ]
  },
  {
   "cell_type": "code",
   "execution_count": 14,
   "metadata": {},
   "outputs": [
    {
     "name": "stdout",
     "output_type": "stream",
     "text": [
      "Fetching data for ARE&M.NS...\n"
     ]
    },
    {
     "name": "stderr",
     "output_type": "stream",
     "text": [
      "[*********************100%%**********************]  1 of 1 completed\n"
     ]
    },
    {
     "name": "stdout",
     "output_type": "stream",
     "text": [
      "Data saved to stock_data\\Automobile and Auto Components\\ARE&M.csv\n",
      "Fetching data for APOLLOTYRE.NS...\n"
     ]
    },
    {
     "name": "stderr",
     "output_type": "stream",
     "text": [
      "[*********************100%%**********************]  1 of 1 completed\n",
      "[*********************100%%**********************]  1 of 1 completed\n"
     ]
    },
    {
     "name": "stdout",
     "output_type": "stream",
     "text": [
      "Data saved to stock_data\\Automobile and Auto Components\\APOLLOTYRE.csv\n",
      "Fetching data for ASAHIINDIA.NS...\n",
      "Data saved to stock_data\\Automobile and Auto Components\\ASAHIINDIA.csv\n",
      "Fetching data for BAJAJ-AUTO.NS...\n"
     ]
    },
    {
     "name": "stderr",
     "output_type": "stream",
     "text": [
      "[*********************100%%**********************]  1 of 1 completed\n",
      "[*********************100%%**********************]  1 of 1 completed\n"
     ]
    },
    {
     "name": "stdout",
     "output_type": "stream",
     "text": [
      "Data saved to stock_data\\Automobile and Auto Components\\BAJAJ-AUTO.csv\n",
      "Fetching data for BALKRISIND.NS...\n",
      "Data saved to stock_data\\Automobile and Auto Components\\BALKRISIND.csv\n",
      "Fetching data for BHARATFORG.NS...\n"
     ]
    },
    {
     "name": "stderr",
     "output_type": "stream",
     "text": [
      "[*********************100%%**********************]  1 of 1 completed\n"
     ]
    },
    {
     "name": "stdout",
     "output_type": "stream",
     "text": [
      "Data saved to stock_data\\Automobile and Auto Components\\BHARATFORG.csv\n",
      "Fetching data for BOSCHLTD.NS...\n"
     ]
    },
    {
     "name": "stderr",
     "output_type": "stream",
     "text": [
      "[*********************100%%**********************]  1 of 1 completed\n",
      "[*********************100%%**********************]  1 of 1 completed\n"
     ]
    },
    {
     "name": "stdout",
     "output_type": "stream",
     "text": [
      "Data saved to stock_data\\Automobile and Auto Components\\BOSCHLTD.csv\n",
      "Fetching data for CIEINDIA.NS...\n",
      "Data saved to stock_data\\Automobile and Auto Components\\CIEINDIA.csv\n",
      "Fetching data for CEATLTD.NS...\n"
     ]
    },
    {
     "name": "stderr",
     "output_type": "stream",
     "text": [
      "[*********************100%%**********************]  1 of 1 completed\n",
      "[*********************100%%**********************]  1 of 1 completed\n"
     ]
    },
    {
     "name": "stdout",
     "output_type": "stream",
     "text": [
      "Data saved to stock_data\\Automobile and Auto Components\\CEATLTD.csv\n",
      "Fetching data for CRAFTSMAN.NS...\n",
      "Data saved to stock_data\\Automobile and Auto Components\\CRAFTSMAN.csv\n",
      "Fetching data for EICHERMOT.NS...\n"
     ]
    },
    {
     "name": "stderr",
     "output_type": "stream",
     "text": [
      "[*********************100%%**********************]  1 of 1 completed\n",
      "[*********************100%%**********************]  1 of 1 completed\n"
     ]
    },
    {
     "name": "stdout",
     "output_type": "stream",
     "text": [
      "Data saved to stock_data\\Automobile and Auto Components\\EICHERMOT.csv\n",
      "Fetching data for ENDURANCE.NS...\n",
      "Data saved to stock_data\\Automobile and Auto Components\\ENDURANCE.csv\n",
      "Fetching data for EXIDEIND.NS...\n"
     ]
    },
    {
     "name": "stderr",
     "output_type": "stream",
     "text": [
      "[*********************100%%**********************]  1 of 1 completed\n",
      "[*********************100%%**********************]  1 of 1 completed\n"
     ]
    },
    {
     "name": "stdout",
     "output_type": "stream",
     "text": [
      "Data saved to stock_data\\Automobile and Auto Components\\EXIDEIND.csv\n",
      "Fetching data for HBLPOWER.NS...\n",
      "Data saved to stock_data\\Automobile and Auto Components\\HBLPOWER.csv\n",
      "Fetching data for HEROMOTOCO.NS...\n"
     ]
    },
    {
     "name": "stderr",
     "output_type": "stream",
     "text": [
      "[*********************100%%**********************]  1 of 1 completed\n",
      "[*********************100%%**********************]  1 of 1 completed\n"
     ]
    },
    {
     "name": "stdout",
     "output_type": "stream",
     "text": [
      "Data saved to stock_data\\Automobile and Auto Components\\HEROMOTOCO.csv\n",
      "Fetching data for JBMA.NS...\n",
      "Data saved to stock_data\\Automobile and Auto Components\\JBMA.csv\n",
      "Fetching data for MRF.NS...\n"
     ]
    },
    {
     "name": "stderr",
     "output_type": "stream",
     "text": [
      "[*********************100%%**********************]  1 of 1 completed\n",
      "[*********************100%%**********************]  1 of 1 completed\n"
     ]
    },
    {
     "name": "stdout",
     "output_type": "stream",
     "text": [
      "Data saved to stock_data\\Automobile and Auto Components\\MRF.csv\n",
      "Fetching data for M&M.NS...\n",
      "Data saved to stock_data\\Automobile and Auto Components\\M&M.csv\n",
      "Fetching data for MARUTI.NS...\n"
     ]
    },
    {
     "name": "stderr",
     "output_type": "stream",
     "text": [
      "[*********************100%%**********************]  1 of 1 completed\n",
      "[*********************100%%**********************]  1 of 1 completed\n"
     ]
    },
    {
     "name": "stdout",
     "output_type": "stream",
     "text": [
      "Data saved to stock_data\\Automobile and Auto Components\\MARUTI.csv\n",
      "Fetching data for MINDACORP.NS...\n",
      "Data saved to stock_data\\Automobile and Auto Components\\MINDACORP.csv\n",
      "Fetching data for MSUMI.NS...\n"
     ]
    },
    {
     "name": "stderr",
     "output_type": "stream",
     "text": [
      "[*********************100%%**********************]  1 of 1 completed\n",
      "[*********************100%%**********************]  1 of 1 completed\n"
     ]
    },
    {
     "name": "stdout",
     "output_type": "stream",
     "text": [
      "Data saved to stock_data\\Automobile and Auto Components\\MSUMI.csv\n",
      "Fetching data for OLECTRA.NS...\n",
      "Data saved to stock_data\\Automobile and Auto Components\\OLECTRA.csv\n",
      "Fetching data for RKFORGE.NS...\n"
     ]
    },
    {
     "name": "stderr",
     "output_type": "stream",
     "text": [
      "[*********************100%%**********************]  1 of 1 completed\n",
      "[*********************100%%**********************]  1 of 1 completed\n"
     ]
    },
    {
     "name": "stdout",
     "output_type": "stream",
     "text": [
      "Data saved to stock_data\\Automobile and Auto Components\\RKFORGE.csv\n",
      "Fetching data for MOTHERSON.NS...\n",
      "Data saved to stock_data\\Automobile and Auto Components\\MOTHERSON.csv\n",
      "Fetching data for SCHAEFFLER.NS...\n"
     ]
    },
    {
     "name": "stderr",
     "output_type": "stream",
     "text": [
      "[*********************100%%**********************]  1 of 1 completed\n",
      "[*********************100%%**********************]  1 of 1 completed\n"
     ]
    },
    {
     "name": "stdout",
     "output_type": "stream",
     "text": [
      "Data saved to stock_data\\Automobile and Auto Components\\SCHAEFFLER.csv\n",
      "Fetching data for SONACOMS.NS...\n",
      "Data saved to stock_data\\Automobile and Auto Components\\SONACOMS.csv\n",
      "Fetching data for SUNDRMFAST.NS...\n"
     ]
    },
    {
     "name": "stderr",
     "output_type": "stream",
     "text": [
      "[*********************100%%**********************]  1 of 1 completed\n",
      "[*********************100%%**********************]  1 of 1 completed\n"
     ]
    },
    {
     "name": "stdout",
     "output_type": "stream",
     "text": [
      "Data saved to stock_data\\Automobile and Auto Components\\SUNDRMFAST.csv\n",
      "Fetching data for TVSMOTOR.NS...\n",
      "Data saved to stock_data\\Automobile and Auto Components\\TVSMOTOR.csv\n",
      "Fetching data for TATAMOTORS.NS...\n"
     ]
    },
    {
     "name": "stderr",
     "output_type": "stream",
     "text": [
      "[*********************100%%**********************]  1 of 1 completed\n",
      "[*********************100%%**********************]  1 of 1 completed\n"
     ]
    },
    {
     "name": "stdout",
     "output_type": "stream",
     "text": [
      "Data saved to stock_data\\Automobile and Auto Components\\TATAMOTORS.csv\n",
      "Fetching data for TIINDIA.NS...\n",
      "Data saved to stock_data\\Automobile and Auto Components\\TIINDIA.csv\n",
      "Fetching data for UNOMINDA.NS...\n"
     ]
    },
    {
     "name": "stderr",
     "output_type": "stream",
     "text": [
      "[*********************100%%**********************]  1 of 1 completed\n",
      "[*********************100%%**********************]  1 of 1 completed\n"
     ]
    },
    {
     "name": "stdout",
     "output_type": "stream",
     "text": [
      "Data saved to stock_data\\Automobile and Auto Components\\UNOMINDA.csv\n",
      "Fetching data for VARROC.NS...\n",
      "Data saved to stock_data\\Automobile and Auto Components\\VARROC.csv\n",
      "Fetching data for ZFCVINDIA.NS...\n"
     ]
    },
    {
     "name": "stderr",
     "output_type": "stream",
     "text": [
      "[*********************100%%**********************]  1 of 1 completed\n",
      "[*********************100%%**********************]  1 of 1 completed"
     ]
    },
    {
     "name": "stdout",
     "output_type": "stream",
     "text": [
      "Data saved to stock_data\\Automobile and Auto Components\\ZFCVINDIA.csv\n",
      "Fetching data for ABB.NS...\n"
     ]
    },
    {
     "name": "stderr",
     "output_type": "stream",
     "text": [
      "\n",
      "[*********************100%%**********************]  1 of 1 completed\n"
     ]
    },
    {
     "name": "stdout",
     "output_type": "stream",
     "text": [
      "Data saved to stock_data\\Capital Goods\\ABB.csv\n",
      "Fetching data for AIAENG.NS...\n",
      "Data saved to stock_data\\Capital Goods\\AIAENG.csv\n",
      "Fetching data for APLAPOLLO.NS...\n"
     ]
    },
    {
     "name": "stderr",
     "output_type": "stream",
     "text": [
      "[*********************100%%**********************]  1 of 1 completed\n",
      "[*********************100%%**********************]  1 of 1 completed\n"
     ]
    },
    {
     "name": "stdout",
     "output_type": "stream",
     "text": [
      "Data saved to stock_data\\Capital Goods\\APLAPOLLO.csv\n",
      "Fetching data for ACE.NS...\n",
      "Data saved to stock_data\\Capital Goods\\ACE.csv\n",
      "Fetching data for APARINDS.NS...\n"
     ]
    },
    {
     "name": "stderr",
     "output_type": "stream",
     "text": [
      "[*********************100%%**********************]  1 of 1 completed\n",
      "[*********************100%%**********************]  1 of 1 completed\n"
     ]
    },
    {
     "name": "stdout",
     "output_type": "stream",
     "text": [
      "Data saved to stock_data\\Capital Goods\\APARINDS.csv\n",
      "Fetching data for ASHOKLEY.NS...\n",
      "Data saved to stock_data\\Capital Goods\\ASHOKLEY.csv\n",
      "Fetching data for ASTRAL.NS...\n"
     ]
    },
    {
     "name": "stderr",
     "output_type": "stream",
     "text": [
      "[*********************100%%**********************]  1 of 1 completed\n",
      "[*********************100%%**********************]  1 of 1 completed"
     ]
    },
    {
     "name": "stdout",
     "output_type": "stream",
     "text": [
      "Data saved to stock_data\\Capital Goods\\ASTRAL.csv\n",
      "Fetching data for BEML.NS...\n"
     ]
    },
    {
     "name": "stderr",
     "output_type": "stream",
     "text": [
      "\n",
      "[*********************100%%**********************]  1 of 1 completed\n"
     ]
    },
    {
     "name": "stdout",
     "output_type": "stream",
     "text": [
      "Data saved to stock_data\\Capital Goods\\BEML.csv\n",
      "Fetching data for BDL.NS...\n",
      "Data saved to stock_data\\Capital Goods\\BDL.csv\n",
      "Fetching data for BEL.NS...\n"
     ]
    },
    {
     "name": "stderr",
     "output_type": "stream",
     "text": [
      "[*********************100%%**********************]  1 of 1 completed\n",
      "[*********************100%%**********************]  1 of 1 completed\n"
     ]
    },
    {
     "name": "stdout",
     "output_type": "stream",
     "text": [
      "Data saved to stock_data\\Capital Goods\\BEL.csv\n",
      "Fetching data for BHEL.NS...\n",
      "Data saved to stock_data\\Capital Goods\\BHEL.csv\n",
      "Fetching data for BORORENEW.NS...\n"
     ]
    },
    {
     "name": "stderr",
     "output_type": "stream",
     "text": [
      "[*********************100%%**********************]  1 of 1 completed\n",
      "[*********************100%%**********************]  1 of 1 completed"
     ]
    },
    {
     "name": "stdout",
     "output_type": "stream",
     "text": [
      "Data saved to stock_data\\Capital Goods\\BORORENEW.csv\n",
      "Fetching data for CGPOWER.NS...\n",
      "Data saved to stock_data\\Capital Goods\\CGPOWER.csv\n",
      "Fetching data for CARBORUNIV.NS...\n"
     ]
    },
    {
     "name": "stderr",
     "output_type": "stream",
     "text": [
      "\n",
      "[*********************100%%**********************]  1 of 1 completed\n",
      "[*********************100%%**********************]  1 of 1 completed\n"
     ]
    },
    {
     "name": "stdout",
     "output_type": "stream",
     "text": [
      "Data saved to stock_data\\Capital Goods\\CARBORUNIV.csv\n",
      "Fetching data for COCHINSHIP.NS...\n",
      "Data saved to stock_data\\Capital Goods\\COCHINSHIP.csv\n",
      "Fetching data for CUMMINSIND.NS...\n"
     ]
    },
    {
     "name": "stderr",
     "output_type": "stream",
     "text": [
      "[*********************100%%**********************]  1 of 1 completed\n",
      "[*********************100%%**********************]  1 of 1 completed\n"
     ]
    },
    {
     "name": "stdout",
     "output_type": "stream",
     "text": [
      "Data saved to stock_data\\Capital Goods\\CUMMINSIND.csv\n",
      "Fetching data for DATAPATTNS.NS...\n",
      "Data saved to stock_data\\Capital Goods\\DATAPATTNS.csv\n",
      "Fetching data for EPL.NS...\n"
     ]
    },
    {
     "name": "stderr",
     "output_type": "stream",
     "text": [
      "[*********************100%%**********************]  1 of 1 completed\n"
     ]
    },
    {
     "name": "stdout",
     "output_type": "stream",
     "text": [
      "Data saved to stock_data\\Capital Goods\\EPL.csv\n",
      "Fetching data for ELECON.NS...\n"
     ]
    },
    {
     "name": "stderr",
     "output_type": "stream",
     "text": [
      "[*********************100%%**********************]  1 of 1 completed\n",
      "[*********************100%%**********************]  1 of 1 completed\n"
     ]
    },
    {
     "name": "stdout",
     "output_type": "stream",
     "text": [
      "Data saved to stock_data\\Capital Goods\\ELECON.csv\n",
      "Fetching data for ELGIEQUIP.NS...\n",
      "Data saved to stock_data\\Capital Goods\\ELGIEQUIP.csv\n",
      "Fetching data for ESCORTS.NS...\n"
     ]
    },
    {
     "name": "stderr",
     "output_type": "stream",
     "text": [
      "[*********************100%%**********************]  1 of 1 completed\n",
      "[*********************100%%**********************]  1 of 1 completed\n"
     ]
    },
    {
     "name": "stdout",
     "output_type": "stream",
     "text": [
      "Data saved to stock_data\\Capital Goods\\ESCORTS.csv\n",
      "Fetching data for FINCABLES.NS...\n",
      "Data saved to stock_data\\Capital Goods\\FINCABLES.csv\n",
      "Fetching data for FINPIPE.NS...\n"
     ]
    },
    {
     "name": "stderr",
     "output_type": "stream",
     "text": [
      "[*********************100%%**********************]  1 of 1 completed\n",
      "[*********************100%%**********************]  1 of 1 completed\n"
     ]
    },
    {
     "name": "stdout",
     "output_type": "stream",
     "text": [
      "Data saved to stock_data\\Capital Goods\\FINPIPE.csv\n",
      "Fetching data for GMMPFAUDLR.NS...\n",
      "Data saved to stock_data\\Capital Goods\\GMMPFAUDLR.csv\n",
      "Fetching data for GRSE.NS...\n"
     ]
    },
    {
     "name": "stderr",
     "output_type": "stream",
     "text": [
      "[*********************100%%**********************]  1 of 1 completed\n",
      "[*********************100%%**********************]  1 of 1 completed\n"
     ]
    },
    {
     "name": "stdout",
     "output_type": "stream",
     "text": [
      "Data saved to stock_data\\Capital Goods\\GRSE.csv\n",
      "Fetching data for GPIL.NS...\n",
      "Data saved to stock_data\\Capital Goods\\GPIL.csv\n",
      "Fetching data for GRAPHITE.NS...\n"
     ]
    },
    {
     "name": "stderr",
     "output_type": "stream",
     "text": [
      "[*********************100%%**********************]  1 of 1 completed\n",
      "[*********************100%%**********************]  1 of 1 completed\n"
     ]
    },
    {
     "name": "stdout",
     "output_type": "stream",
     "text": [
      "Data saved to stock_data\\Capital Goods\\GRAPHITE.csv\n",
      "Fetching data for GRINDWELL.NS...\n",
      "Data saved to stock_data\\Capital Goods\\GRINDWELL.csv\n",
      "Fetching data for HEG.NS...\n"
     ]
    },
    {
     "name": "stderr",
     "output_type": "stream",
     "text": [
      "[*********************100%%**********************]  1 of 1 completed\n",
      "[*********************100%%**********************]  1 of 1 completed\n"
     ]
    },
    {
     "name": "stdout",
     "output_type": "stream",
     "text": [
      "Data saved to stock_data\\Capital Goods\\HEG.csv\n",
      "Fetching data for HAPPYFORGE.NS...\n",
      "Data saved to stock_data\\Capital Goods\\HAPPYFORGE.csv\n",
      "Fetching data for HAL.NS...\n"
     ]
    },
    {
     "name": "stderr",
     "output_type": "stream",
     "text": [
      "[*********************100%%**********************]  1 of 1 completed\n",
      "[*********************100%%**********************]  1 of 1 completed\n"
     ]
    },
    {
     "name": "stdout",
     "output_type": "stream",
     "text": [
      "Data saved to stock_data\\Capital Goods\\HAL.csv\n",
      "Fetching data for POWERINDIA.NS...\n",
      "Data saved to stock_data\\Capital Goods\\POWERINDIA.csv\n",
      "Fetching data for HONAUT.NS...\n"
     ]
    },
    {
     "name": "stderr",
     "output_type": "stream",
     "text": [
      "[*********************100%%**********************]  1 of 1 completed\n"
     ]
    },
    {
     "name": "stdout",
     "output_type": "stream",
     "text": [
      "Data saved to stock_data\\Capital Goods\\HONAUT.csv\n",
      "Fetching data for INOXWIND.NS...\n"
     ]
    },
    {
     "name": "stderr",
     "output_type": "stream",
     "text": [
      "[*********************100%%**********************]  1 of 1 completed\n",
      "[*********************100%%**********************]  1 of 1 completed"
     ]
    },
    {
     "name": "stdout",
     "output_type": "stream",
     "text": [
      "Data saved to stock_data\\Capital Goods\\INOXWIND.csv\n",
      "Fetching data for JINDALSAW.NS...\n"
     ]
    },
    {
     "name": "stderr",
     "output_type": "stream",
     "text": [
      "\n",
      "[*********************100%%**********************]  1 of 1 completed\n"
     ]
    },
    {
     "name": "stdout",
     "output_type": "stream",
     "text": [
      "Data saved to stock_data\\Capital Goods\\JINDALSAW.csv\n",
      "Fetching data for JWL.NS...\n",
      "Data saved to stock_data\\Capital Goods\\JWL.csv\n",
      "Fetching data for KEI.NS...\n"
     ]
    },
    {
     "name": "stderr",
     "output_type": "stream",
     "text": [
      "[*********************100%%**********************]  1 of 1 completed\n",
      "[*********************100%%**********************]  1 of 1 completed\n"
     ]
    },
    {
     "name": "stdout",
     "output_type": "stream",
     "text": [
      "Data saved to stock_data\\Capital Goods\\KEI.csv\n",
      "Fetching data for KSB.NS...\n",
      "Data saved to stock_data\\Capital Goods\\KSB.csv\n",
      "Fetching data for KAYNES.NS...\n"
     ]
    },
    {
     "name": "stderr",
     "output_type": "stream",
     "text": [
      "[*********************100%%**********************]  1 of 1 completed\n",
      "[*********************100%%**********************]  1 of 1 completed\n"
     ]
    },
    {
     "name": "stdout",
     "output_type": "stream",
     "text": [
      "Data saved to stock_data\\Capital Goods\\KAYNES.csv\n",
      "Fetching data for MTARTECH.NS...\n",
      "Data saved to stock_data\\Capital Goods\\MTARTECH.csv\n",
      "Fetching data for MAHSEAMLES.NS...\n"
     ]
    },
    {
     "name": "stderr",
     "output_type": "stream",
     "text": [
      "[*********************100%%**********************]  1 of 1 completed\n",
      "[*********************100%%**********************]  1 of 1 completed\n"
     ]
    },
    {
     "name": "stdout",
     "output_type": "stream",
     "text": [
      "Data saved to stock_data\\Capital Goods\\MAHSEAMLES.csv\n",
      "Fetching data for MAZDOCK.NS...\n",
      "Data saved to stock_data\\Capital Goods\\MAZDOCK.csv\n",
      "Fetching data for POLYCAB.NS...\n"
     ]
    },
    {
     "name": "stderr",
     "output_type": "stream",
     "text": [
      "[*********************100%%**********************]  1 of 1 completed\n",
      "[*********************100%%**********************]  1 of 1 completed\n"
     ]
    },
    {
     "name": "stdout",
     "output_type": "stream",
     "text": [
      "Data saved to stock_data\\Capital Goods\\POLYCAB.csv\n",
      "Fetching data for PRAJIND.NS...\n",
      "Data saved to stock_data\\Capital Goods\\PRAJIND.csv\n",
      "Fetching data for PRINCEPIPE.NS...\n"
     ]
    },
    {
     "name": "stderr",
     "output_type": "stream",
     "text": [
      "[*********************100%%**********************]  1 of 1 completed\n",
      "[*********************100%%**********************]  1 of 1 completed\n"
     ]
    },
    {
     "name": "stdout",
     "output_type": "stream",
     "text": [
      "Data saved to stock_data\\Capital Goods\\PRINCEPIPE.csv\n",
      "Fetching data for RRKABEL.NS...\n",
      "Data saved to stock_data\\Capital Goods\\RRKABEL.csv\n",
      "Fetching data for RHIM.NS...\n"
     ]
    },
    {
     "name": "stderr",
     "output_type": "stream",
     "text": [
      "[*********************100%%**********************]  1 of 1 completed\n",
      "[*********************100%%**********************]  1 of 1 completed\n"
     ]
    },
    {
     "name": "stdout",
     "output_type": "stream",
     "text": [
      "Data saved to stock_data\\Capital Goods\\RHIM.csv\n",
      "Fetching data for RATNAMANI.NS...\n",
      "Data saved to stock_data\\Capital Goods\\RATNAMANI.csv\n",
      "Fetching data for SKFINDIA.NS...\n"
     ]
    },
    {
     "name": "stderr",
     "output_type": "stream",
     "text": [
      "[*********************100%%**********************]  1 of 1 completed\n",
      "[*********************100%%**********************]  1 of 1 completed\n"
     ]
    },
    {
     "name": "stdout",
     "output_type": "stream",
     "text": [
      "Data saved to stock_data\\Capital Goods\\SKFINDIA.csv\n",
      "Fetching data for SCHNEIDER.NS...\n",
      "Data saved to stock_data\\Capital Goods\\SCHNEIDER.csv\n",
      "Fetching data for SHYAMMETL.NS...\n"
     ]
    },
    {
     "name": "stderr",
     "output_type": "stream",
     "text": [
      "[*********************100%%**********************]  1 of 1 completed\n",
      "[*********************100%%**********************]  1 of 1 completed\n"
     ]
    },
    {
     "name": "stdout",
     "output_type": "stream",
     "text": [
      "Data saved to stock_data\\Capital Goods\\SHYAMMETL.csv\n",
      "Fetching data for SIEMENS.NS...\n",
      "Data saved to stock_data\\Capital Goods\\SIEMENS.csv\n",
      "Fetching data for SUPREMEIND.NS...\n"
     ]
    },
    {
     "name": "stderr",
     "output_type": "stream",
     "text": [
      "[*********************100%%**********************]  1 of 1 completed\n",
      "[*********************100%%**********************]  1 of 1 completed\n"
     ]
    },
    {
     "name": "stdout",
     "output_type": "stream",
     "text": [
      "Data saved to stock_data\\Capital Goods\\SUPREMEIND.csv\n",
      "Fetching data for SUZLON.NS...\n",
      "Data saved to stock_data\\Capital Goods\\SUZLON.csv\n",
      "Fetching data for SYRMA.NS...\n"
     ]
    },
    {
     "name": "stderr",
     "output_type": "stream",
     "text": [
      "[*********************100%%**********************]  1 of 1 completed\n",
      "[*********************100%%**********************]  1 of 1 completed\n"
     ]
    },
    {
     "name": "stdout",
     "output_type": "stream",
     "text": [
      "Data saved to stock_data\\Capital Goods\\SYRMA.csv\n",
      "Fetching data for THERMAX.NS...\n",
      "Data saved to stock_data\\Capital Goods\\THERMAX.csv\n",
      "Fetching data for TIMKEN.NS...\n"
     ]
    },
    {
     "name": "stderr",
     "output_type": "stream",
     "text": [
      "[*********************100%%**********************]  1 of 1 completed\n",
      "[*********************100%%**********************]  1 of 1 completed\n"
     ]
    },
    {
     "name": "stdout",
     "output_type": "stream",
     "text": [
      "Data saved to stock_data\\Capital Goods\\TIMKEN.csv\n",
      "Fetching data for TITAGARH.NS...\n",
      "Data saved to stock_data\\Capital Goods\\TITAGARH.csv\n",
      "Fetching data for TRITURBINE.NS...\n"
     ]
    },
    {
     "name": "stderr",
     "output_type": "stream",
     "text": [
      "[*********************100%%**********************]  1 of 1 completed\n",
      "[*********************100%%**********************]  1 of 1 completed\n"
     ]
    },
    {
     "name": "stdout",
     "output_type": "stream",
     "text": [
      "Data saved to stock_data\\Capital Goods\\TRITURBINE.csv\n",
      "Fetching data for USHAMART.NS...\n",
      "Data saved to stock_data\\Capital Goods\\USHAMART.csv\n",
      "Fetching data for WELCORP.NS...\n"
     ]
    },
    {
     "name": "stderr",
     "output_type": "stream",
     "text": [
      "[*********************100%%**********************]  1 of 1 completed\n",
      "[*********************100%%**********************]  1 of 1 completed"
     ]
    },
    {
     "name": "stdout",
     "output_type": "stream",
     "text": [
      "Data saved to stock_data\\Capital Goods\\WELCORP.csv\n",
      "Fetching data for AARTIIND.NS...\n"
     ]
    },
    {
     "name": "stderr",
     "output_type": "stream",
     "text": [
      "\n",
      "[*********************100%%**********************]  1 of 1 completed\n"
     ]
    },
    {
     "name": "stdout",
     "output_type": "stream",
     "text": [
      "Data saved to stock_data\\Chemicals\\AARTIIND.csv\n",
      "Fetching data for AETHER.NS...\n",
      "Data saved to stock_data\\Chemicals\\AETHER.csv\n",
      "Fetching data for ALKYLAMINE.NS...\n"
     ]
    },
    {
     "name": "stderr",
     "output_type": "stream",
     "text": [
      "[*********************100%%**********************]  1 of 1 completed\n",
      "[*********************100%%**********************]  1 of 1 completed"
     ]
    },
    {
     "name": "stdout",
     "output_type": "stream",
     "text": [
      "Data saved to stock_data\\Chemicals\\ALKYLAMINE.csv\n",
      "Fetching data for ANURAS.NS...\n",
      "Data saved to stock_data\\Chemicals\\ANURAS.csv\n",
      "Fetching data for ACI.NS...\n"
     ]
    },
    {
     "name": "stderr",
     "output_type": "stream",
     "text": [
      "\n",
      "[*********************100%%**********************]  1 of 1 completed\n",
      "[*********************100%%**********************]  1 of 1 completed\n"
     ]
    },
    {
     "name": "stdout",
     "output_type": "stream",
     "text": [
      "Data saved to stock_data\\Chemicals\\ACI.csv\n",
      "Fetching data for ATUL.NS...\n",
      "Data saved to stock_data\\Chemicals\\ATUL.csv\n",
      "Fetching data for BALAMINES.NS...\n"
     ]
    },
    {
     "name": "stderr",
     "output_type": "stream",
     "text": [
      "[*********************100%%**********************]  1 of 1 completed\n",
      "[*********************100%%**********************]  1 of 1 completed\n"
     ]
    },
    {
     "name": "stdout",
     "output_type": "stream",
     "text": [
      "Data saved to stock_data\\Chemicals\\BALAMINES.csv\n",
      "Fetching data for BAYERCROP.NS...\n",
      "Data saved to stock_data\\Chemicals\\BAYERCROP.csv\n",
      "Fetching data for CHAMBLFERT.NS...\n"
     ]
    },
    {
     "name": "stderr",
     "output_type": "stream",
     "text": [
      "[*********************100%%**********************]  1 of 1 completed\n",
      "[*********************100%%**********************]  1 of 1 completed\n"
     ]
    },
    {
     "name": "stdout",
     "output_type": "stream",
     "text": [
      "Data saved to stock_data\\Chemicals\\CHAMBLFERT.csv\n",
      "Fetching data for CHEMPLASTS.NS...\n",
      "Data saved to stock_data\\Chemicals\\CHEMPLASTS.csv\n",
      "Fetching data for CLEAN.NS...\n"
     ]
    },
    {
     "name": "stderr",
     "output_type": "stream",
     "text": [
      "[*********************100%%**********************]  1 of 1 completed\n",
      "[*********************100%%**********************]  1 of 1 completed\n"
     ]
    },
    {
     "name": "stdout",
     "output_type": "stream",
     "text": [
      "Data saved to stock_data\\Chemicals\\CLEAN.csv\n",
      "Fetching data for COROMANDEL.NS...\n",
      "Data saved to stock_data\\Chemicals\\COROMANDEL.csv\n",
      "Fetching data for DEEPAKFERT.NS...\n"
     ]
    },
    {
     "name": "stderr",
     "output_type": "stream",
     "text": [
      "[*********************100%%**********************]  1 of 1 completed\n",
      "[*********************100%%**********************]  1 of 1 completed\n"
     ]
    },
    {
     "name": "stdout",
     "output_type": "stream",
     "text": [
      "Data saved to stock_data\\Chemicals\\DEEPAKFERT.csv\n",
      "Fetching data for DEEPAKNTR.NS...\n",
      "Data saved to stock_data\\Chemicals\\DEEPAKNTR.csv\n",
      "Fetching data for EIDPARRY.NS...\n"
     ]
    },
    {
     "name": "stderr",
     "output_type": "stream",
     "text": [
      "[*********************100%%**********************]  1 of 1 completed\n",
      "[*********************100%%**********************]  1 of 1 completed\n"
     ]
    },
    {
     "name": "stdout",
     "output_type": "stream",
     "text": [
      "Data saved to stock_data\\Chemicals\\EIDPARRY.csv\n",
      "Fetching data for FACT.NS...\n",
      "Data saved to stock_data\\Chemicals\\FACT.csv\n",
      "Fetching data for FINEORG.NS...\n"
     ]
    },
    {
     "name": "stderr",
     "output_type": "stream",
     "text": [
      "[*********************100%%**********************]  1 of 1 completed\n",
      "[*********************100%%**********************]  1 of 1 completed\n"
     ]
    },
    {
     "name": "stdout",
     "output_type": "stream",
     "text": [
      "Data saved to stock_data\\Chemicals\\FINEORG.csv\n",
      "Fetching data for FLUOROCHEM.NS...\n",
      "Data saved to stock_data\\Chemicals\\FLUOROCHEM.csv\n",
      "Fetching data for GNFC.NS...\n"
     ]
    },
    {
     "name": "stderr",
     "output_type": "stream",
     "text": [
      "[*********************100%%**********************]  1 of 1 completed\n",
      "[*********************100%%**********************]  1 of 1 completed\n"
     ]
    },
    {
     "name": "stdout",
     "output_type": "stream",
     "text": [
      "Data saved to stock_data\\Chemicals\\GNFC.csv\n",
      "Fetching data for GSFC.NS...\n",
      "Data saved to stock_data\\Chemicals\\GSFC.csv\n",
      "Fetching data for HSCL.NS...\n"
     ]
    },
    {
     "name": "stderr",
     "output_type": "stream",
     "text": [
      "[*********************100%%**********************]  1 of 1 completed\n",
      "[*********************100%%**********************]  1 of 1 completed\n"
     ]
    },
    {
     "name": "stdout",
     "output_type": "stream",
     "text": [
      "Data saved to stock_data\\Chemicals\\HSCL.csv\n",
      "Fetching data for JUBLINGREA.NS...\n",
      "Data saved to stock_data\\Chemicals\\JUBLINGREA.csv\n",
      "Fetching data for LXCHEM.NS...\n"
     ]
    },
    {
     "name": "stderr",
     "output_type": "stream",
     "text": [
      "[*********************100%%**********************]  1 of 1 completed\n",
      "[*********************100%%**********************]  1 of 1 completed\n"
     ]
    },
    {
     "name": "stdout",
     "output_type": "stream",
     "text": [
      "Data saved to stock_data\\Chemicals\\LXCHEM.csv\n",
      "Fetching data for LINDEINDIA.NS...\n",
      "Data saved to stock_data\\Chemicals\\LINDEINDIA.csv\n",
      "Fetching data for NAVINFLUOR.NS...\n"
     ]
    },
    {
     "name": "stderr",
     "output_type": "stream",
     "text": [
      "[*********************100%%**********************]  1 of 1 completed\n",
      "[*********************100%%**********************]  1 of 1 completed"
     ]
    },
    {
     "name": "stdout",
     "output_type": "stream",
     "text": [
      "Data saved to stock_data\\Chemicals\\NAVINFLUOR.csv\n",
      "Fetching data for PCBL.NS...\n",
      "Data saved to stock_data\\Chemicals\\PCBL.csv\n",
      "Fetching data for PIIND.NS...\n"
     ]
    },
    {
     "name": "stderr",
     "output_type": "stream",
     "text": [
      "\n",
      "[*********************100%%**********************]  1 of 1 completed\n",
      "[*********************100%%**********************]  1 of 1 completed\n"
     ]
    },
    {
     "name": "stdout",
     "output_type": "stream",
     "text": [
      "Data saved to stock_data\\Chemicals\\PIIND.csv\n",
      "Fetching data for PIDILITIND.NS...\n",
      "Data saved to stock_data\\Chemicals\\PIDILITIND.csv\n",
      "Fetching data for RCF.NS...\n"
     ]
    },
    {
     "name": "stderr",
     "output_type": "stream",
     "text": [
      "[*********************100%%**********************]  1 of 1 completed\n",
      "[*********************100%%**********************]  1 of 1 completed\n"
     ]
    },
    {
     "name": "stdout",
     "output_type": "stream",
     "text": [
      "Data saved to stock_data\\Chemicals\\RCF.csv\n",
      "Fetching data for SRF.NS...\n",
      "Data saved to stock_data\\Chemicals\\SRF.csv\n",
      "Fetching data for SOLARINDS.NS...\n"
     ]
    },
    {
     "name": "stderr",
     "output_type": "stream",
     "text": [
      "[*********************100%%**********************]  1 of 1 completed\n",
      "[*********************100%%**********************]  1 of 1 completed\n"
     ]
    },
    {
     "name": "stdout",
     "output_type": "stream",
     "text": [
      "Data saved to stock_data\\Chemicals\\SOLARINDS.csv\n",
      "Fetching data for SUMICHEM.NS...\n",
      "Data saved to stock_data\\Chemicals\\SUMICHEM.csv\n",
      "Fetching data for TATACHEM.NS...\n"
     ]
    },
    {
     "name": "stderr",
     "output_type": "stream",
     "text": [
      "[*********************100%%**********************]  1 of 1 completed\n",
      "[*********************100%%**********************]  1 of 1 completed\n"
     ]
    },
    {
     "name": "stdout",
     "output_type": "stream",
     "text": [
      "Data saved to stock_data\\Chemicals\\TATACHEM.csv\n",
      "Fetching data for UPL.NS...\n",
      "Data saved to stock_data\\Chemicals\\UPL.csv\n",
      "Fetching data for ENGINERSIN.NS...\n"
     ]
    },
    {
     "name": "stderr",
     "output_type": "stream",
     "text": [
      "[*********************100%%**********************]  1 of 1 completed\n",
      "[*********************100%%**********************]  1 of 1 completed\n"
     ]
    },
    {
     "name": "stdout",
     "output_type": "stream",
     "text": [
      "Data saved to stock_data\\Construction\\ENGINERSIN.csv\n",
      "Fetching data for IRB.NS...\n",
      "Data saved to stock_data\\Construction\\IRB.csv\n",
      "Fetching data for IRCON.NS...\n"
     ]
    },
    {
     "name": "stderr",
     "output_type": "stream",
     "text": [
      "[*********************100%%**********************]  1 of 1 completed\n",
      "[*********************100%%**********************]  1 of 1 completed\n"
     ]
    },
    {
     "name": "stdout",
     "output_type": "stream",
     "text": [
      "Data saved to stock_data\\Construction\\IRCON.csv\n",
      "Fetching data for KNRCON.NS...\n",
      "Data saved to stock_data\\Construction\\KNRCON.csv\n",
      "Fetching data for KPIL.NS...\n"
     ]
    },
    {
     "name": "stderr",
     "output_type": "stream",
     "text": [
      "[*********************100%%**********************]  1 of 1 completed\n",
      "[*********************100%%**********************]  1 of 1 completed\n"
     ]
    },
    {
     "name": "stdout",
     "output_type": "stream",
     "text": [
      "Data saved to stock_data\\Construction\\KPIL.csv\n",
      "Fetching data for KEC.NS...\n",
      "Data saved to stock_data\\Construction\\KEC.csv\n",
      "Fetching data for LT.NS...\n"
     ]
    },
    {
     "name": "stderr",
     "output_type": "stream",
     "text": [
      "[*********************100%%**********************]  1 of 1 completed\n",
      "[*********************100%%**********************]  1 of 1 completed\n"
     ]
    },
    {
     "name": "stdout",
     "output_type": "stream",
     "text": [
      "Data saved to stock_data\\Construction\\LT.csv\n",
      "Fetching data for NBCC.NS...\n",
      "Data saved to stock_data\\Construction\\NBCC.csv\n",
      "Fetching data for NCC.NS...\n"
     ]
    },
    {
     "name": "stderr",
     "output_type": "stream",
     "text": [
      "[*********************100%%**********************]  1 of 1 completed\n",
      "[*********************100%%**********************]  1 of 1 completed\n"
     ]
    },
    {
     "name": "stdout",
     "output_type": "stream",
     "text": [
      "Data saved to stock_data\\Construction\\NCC.csv\n",
      "Fetching data for PNCINFRA.NS...\n",
      "Data saved to stock_data\\Construction\\PNCINFRA.csv\n",
      "Fetching data for RITES.NS...\n"
     ]
    },
    {
     "name": "stderr",
     "output_type": "stream",
     "text": [
      "[*********************100%%**********************]  1 of 1 completed\n",
      "[*********************100%%**********************]  1 of 1 completed\n"
     ]
    },
    {
     "name": "stdout",
     "output_type": "stream",
     "text": [
      "Data saved to stock_data\\Construction\\RITES.csv\n",
      "Fetching data for RVNL.NS...\n",
      "Data saved to stock_data\\Construction\\RVNL.csv\n",
      "Fetching data for SWSOLAR.NS...\n"
     ]
    },
    {
     "name": "stderr",
     "output_type": "stream",
     "text": [
      "[*********************100%%**********************]  1 of 1 completed\n",
      "[*********************100%%**********************]  1 of 1 completed\n"
     ]
    },
    {
     "name": "stdout",
     "output_type": "stream",
     "text": [
      "Data saved to stock_data\\Construction\\SWSOLAR.csv\n",
      "Fetching data for ACC.NS...\n",
      "Data saved to stock_data\\Construction Materials\\ACC.csv\n",
      "Fetching data for AMBUJACEM.NS...\n"
     ]
    },
    {
     "name": "stderr",
     "output_type": "stream",
     "text": [
      "[*********************100%%**********************]  1 of 1 completed\n",
      "[*********************100%%**********************]  1 of 1 completed\n"
     ]
    },
    {
     "name": "stdout",
     "output_type": "stream",
     "text": [
      "Data saved to stock_data\\Construction Materials\\AMBUJACEM.csv\n",
      "Fetching data for BIRLACORPN.NS...\n",
      "Data saved to stock_data\\Construction Materials\\BIRLACORPN.csv\n",
      "Fetching data for DALBHARAT.NS...\n"
     ]
    },
    {
     "name": "stderr",
     "output_type": "stream",
     "text": [
      "[*********************100%%**********************]  1 of 1 completed\n",
      "[*********************100%%**********************]  1 of 1 completed"
     ]
    },
    {
     "name": "stdout",
     "output_type": "stream",
     "text": [
      "Data saved to stock_data\\Construction Materials\\DALBHARAT.csv\n",
      "Fetching data for GRASIM.NS...\n"
     ]
    },
    {
     "name": "stderr",
     "output_type": "stream",
     "text": [
      "\n",
      "[*********************100%%**********************]  1 of 1 completed\n"
     ]
    },
    {
     "name": "stdout",
     "output_type": "stream",
     "text": [
      "Data saved to stock_data\\Construction Materials\\GRASIM.csv\n",
      "Fetching data for INDIACEM.NS...\n",
      "Data saved to stock_data\\Construction Materials\\INDIACEM.csv\n",
      "Fetching data for JKCEMENT.NS...\n"
     ]
    },
    {
     "name": "stderr",
     "output_type": "stream",
     "text": [
      "[*********************100%%**********************]  1 of 1 completed\n",
      "[*********************100%%**********************]  1 of 1 completed\n"
     ]
    },
    {
     "name": "stdout",
     "output_type": "stream",
     "text": [
      "Data saved to stock_data\\Construction Materials\\JKCEMENT.csv\n",
      "Fetching data for JKLAKSHMI.NS...\n",
      "Data saved to stock_data\\Construction Materials\\JKLAKSHMI.csv\n",
      "Fetching data for NUVOCO.NS...\n"
     ]
    },
    {
     "name": "stderr",
     "output_type": "stream",
     "text": [
      "[*********************100%%**********************]  1 of 1 completed\n",
      "[*********************100%%**********************]  1 of 1 completed\n"
     ]
    },
    {
     "name": "stdout",
     "output_type": "stream",
     "text": [
      "Data saved to stock_data\\Construction Materials\\NUVOCO.csv\n",
      "Fetching data for PRSMJOHNSN.NS...\n",
      "Data saved to stock_data\\Construction Materials\\PRSMJOHNSN.csv\n",
      "Fetching data for SHREECEM.NS...\n"
     ]
    },
    {
     "name": "stderr",
     "output_type": "stream",
     "text": [
      "[*********************100%%**********************]  1 of 1 completed\n",
      "[*********************100%%**********************]  1 of 1 completed\n"
     ]
    },
    {
     "name": "stdout",
     "output_type": "stream",
     "text": [
      "Data saved to stock_data\\Construction Materials\\SHREECEM.csv\n",
      "Fetching data for RAMCOCEM.NS...\n",
      "Data saved to stock_data\\Construction Materials\\RAMCOCEM.csv\n",
      "Fetching data for ULTRACEMCO.NS...\n"
     ]
    },
    {
     "name": "stderr",
     "output_type": "stream",
     "text": [
      "[*********************100%%**********************]  1 of 1 completed\n",
      "[*********************100%%**********************]  1 of 1 completed\n"
     ]
    },
    {
     "name": "stdout",
     "output_type": "stream",
     "text": [
      "Data saved to stock_data\\Construction Materials\\ULTRACEMCO.csv\n",
      "Fetching data for AMBER.NS...\n",
      "Data saved to stock_data\\Consumer Durables\\AMBER.csv\n",
      "Fetching data for ASIANPAINT.NS...\n"
     ]
    },
    {
     "name": "stderr",
     "output_type": "stream",
     "text": [
      "[*********************100%%**********************]  1 of 1 completed\n",
      "[*********************100%%**********************]  1 of 1 completed"
     ]
    },
    {
     "name": "stdout",
     "output_type": "stream",
     "text": [
      "Data saved to stock_data\\Consumer Durables\\ASIANPAINT.csv\n",
      "Fetching data for BATAINDIA.NS...\n"
     ]
    },
    {
     "name": "stderr",
     "output_type": "stream",
     "text": [
      "\n",
      "[*********************100%%**********************]  1 of 1 completed\n"
     ]
    },
    {
     "name": "stdout",
     "output_type": "stream",
     "text": [
      "Data saved to stock_data\\Consumer Durables\\BATAINDIA.csv\n",
      "Fetching data for BERGEPAINT.NS...\n",
      "Data saved to stock_data\\Consumer Durables\\BERGEPAINT.csv\n",
      "Fetching data for BLUESTARCO.NS...\n"
     ]
    },
    {
     "name": "stderr",
     "output_type": "stream",
     "text": [
      "[*********************100%%**********************]  1 of 1 completed\n",
      "[*********************100%%**********************]  1 of 1 completed\n",
      "[*********************100%%**********************]  1 of 1 completed"
     ]
    },
    {
     "name": "stdout",
     "output_type": "stream",
     "text": [
      "Data saved to stock_data\\Consumer Durables\\BLUESTARCO.csv\n",
      "Fetching data for CAMPUS.NS...\n",
      "Data saved to stock_data\\Consumer Durables\\CAMPUS.csv\n",
      "Fetching data for CELLO.NS...\n"
     ]
    },
    {
     "name": "stderr",
     "output_type": "stream",
     "text": [
      "\n",
      "[*********************100%%**********************]  1 of 1 completed\n"
     ]
    },
    {
     "name": "stdout",
     "output_type": "stream",
     "text": [
      "Data saved to stock_data\\Consumer Durables\\CELLO.csv\n",
      "Fetching data for CENTURYPLY.NS...\n",
      "Data saved to stock_data\\Consumer Durables\\CENTURYPLY.csv\n",
      "Fetching data for CERA.NS...\n"
     ]
    },
    {
     "name": "stderr",
     "output_type": "stream",
     "text": [
      "[*********************100%%**********************]  1 of 1 completed\n",
      "[*********************100%%**********************]  1 of 1 completed\n"
     ]
    },
    {
     "name": "stdout",
     "output_type": "stream",
     "text": [
      "Data saved to stock_data\\Consumer Durables\\CERA.csv\n",
      "Fetching data for CROMPTON.NS...\n",
      "Data saved to stock_data\\Consumer Durables\\CROMPTON.csv\n",
      "Fetching data for DIXON.NS...\n"
     ]
    },
    {
     "name": "stderr",
     "output_type": "stream",
     "text": [
      "[*********************100%%**********************]  1 of 1 completed\n",
      "[*********************100%%**********************]  1 of 1 completed"
     ]
    },
    {
     "name": "stdout",
     "output_type": "stream",
     "text": [
      "Data saved to stock_data\\Consumer Durables\\DIXON.csv\n",
      "Fetching data for HAVELLS.NS...\n",
      "Data saved to stock_data\\Consumer Durables\\HAVELLS.csv\n",
      "Fetching data for INDIGOPNTS.NS...\n"
     ]
    },
    {
     "name": "stderr",
     "output_type": "stream",
     "text": [
      "\n",
      "[*********************100%%**********************]  1 of 1 completed\n",
      "[*********************100%%**********************]  1 of 1 completed\n"
     ]
    },
    {
     "name": "stdout",
     "output_type": "stream",
     "text": [
      "Data saved to stock_data\\Consumer Durables\\INDIGOPNTS.csv\n",
      "Fetching data for KAJARIACER.NS...\n",
      "Data saved to stock_data\\Consumer Durables\\KAJARIACER.csv\n",
      "Fetching data for KALYANKJIL.NS...\n"
     ]
    },
    {
     "name": "stderr",
     "output_type": "stream",
     "text": [
      "[*********************100%%**********************]  1 of 1 completed\n",
      "[*********************100%%**********************]  1 of 1 completed\n"
     ]
    },
    {
     "name": "stdout",
     "output_type": "stream",
     "text": [
      "Data saved to stock_data\\Consumer Durables\\KALYANKJIL.csv\n",
      "Fetching data for KANSAINER.NS...\n",
      "Data saved to stock_data\\Consumer Durables\\KANSAINER.csv\n",
      "Fetching data for METROBRAND.NS...\n"
     ]
    },
    {
     "name": "stderr",
     "output_type": "stream",
     "text": [
      "[*********************100%%**********************]  1 of 1 completed\n",
      "[*********************100%%**********************]  1 of 1 completed\n"
     ]
    },
    {
     "name": "stdout",
     "output_type": "stream",
     "text": [
      "Data saved to stock_data\\Consumer Durables\\METROBRAND.csv\n",
      "Fetching data for RAJESHEXPO.NS...\n",
      "Data saved to stock_data\\Consumer Durables\\RAJESHEXPO.csv\n",
      "Fetching data for SAFARI.NS...\n"
     ]
    },
    {
     "name": "stderr",
     "output_type": "stream",
     "text": [
      "[*********************100%%**********************]  1 of 1 completed\n",
      "[*********************100%%**********************]  1 of 1 completed\n"
     ]
    },
    {
     "name": "stdout",
     "output_type": "stream",
     "text": [
      "Data saved to stock_data\\Consumer Durables\\SAFARI.csv\n",
      "Fetching data for TITAN.NS...\n",
      "Data saved to stock_data\\Consumer Durables\\TITAN.csv\n",
      "Fetching data for VGUARD.NS...\n"
     ]
    },
    {
     "name": "stderr",
     "output_type": "stream",
     "text": [
      "[*********************100%%**********************]  1 of 1 completed\n",
      "[*********************100%%**********************]  1 of 1 completed\n"
     ]
    },
    {
     "name": "stdout",
     "output_type": "stream",
     "text": [
      "Data saved to stock_data\\Consumer Durables\\VGUARD.csv\n",
      "Fetching data for VIPIND.NS...\n",
      "Data saved to stock_data\\Consumer Durables\\VIPIND.csv\n",
      "Fetching data for VAIBHAVGBL.NS...\n"
     ]
    },
    {
     "name": "stderr",
     "output_type": "stream",
     "text": [
      "[*********************100%%**********************]  1 of 1 completed\n",
      "[*********************100%%**********************]  1 of 1 completed\n"
     ]
    },
    {
     "name": "stdout",
     "output_type": "stream",
     "text": [
      "Data saved to stock_data\\Consumer Durables\\VAIBHAVGBL.csv\n",
      "Fetching data for VOLTAS.NS...\n",
      "Data saved to stock_data\\Consumer Durables\\VOLTAS.csv\n",
      "Fetching data for WHIRLPOOL.NS...\n"
     ]
    },
    {
     "name": "stderr",
     "output_type": "stream",
     "text": [
      "[*********************100%%**********************]  1 of 1 completed\n",
      "[*********************100%%**********************]  1 of 1 completed\n"
     ]
    },
    {
     "name": "stdout",
     "output_type": "stream",
     "text": [
      "Data saved to stock_data\\Consumer Durables\\WHIRLPOOL.csv\n",
      "Fetching data for ABFRL.NS...\n",
      "Data saved to stock_data\\Consumer Services\\ABFRL.csv\n",
      "Fetching data for DMART.NS...\n"
     ]
    },
    {
     "name": "stderr",
     "output_type": "stream",
     "text": [
      "[*********************100%%**********************]  1 of 1 completed\n",
      "[*********************100%%**********************]  1 of 1 completed\n"
     ]
    },
    {
     "name": "stdout",
     "output_type": "stream",
     "text": [
      "Data saved to stock_data\\Consumer Services\\DMART.csv\n",
      "Fetching data for BLS.NS...\n",
      "Data saved to stock_data\\Consumer Services\\BLS.csv\n",
      "Fetching data for CHALET.NS...\n"
     ]
    },
    {
     "name": "stderr",
     "output_type": "stream",
     "text": [
      "[*********************100%%**********************]  1 of 1 completed\n",
      "[*********************100%%**********************]  1 of 1 completed\n"
     ]
    },
    {
     "name": "stdout",
     "output_type": "stream",
     "text": [
      "Data saved to stock_data\\Consumer Services\\CHALET.csv\n",
      "Fetching data for DEVYANI.NS...\n",
      "Data saved to stock_data\\Consumer Services\\DEVYANI.csv\n",
      "Fetching data for EIHOTEL.NS...\n"
     ]
    },
    {
     "name": "stderr",
     "output_type": "stream",
     "text": [
      "[*********************100%%**********************]  1 of 1 completed\n",
      "[*********************100%%**********************]  1 of 1 completed\n"
     ]
    },
    {
     "name": "stdout",
     "output_type": "stream",
     "text": [
      "Data saved to stock_data\\Consumer Services\\EIHOTEL.csv\n",
      "Fetching data for EASEMYTRIP.NS...\n",
      "Data saved to stock_data\\Consumer Services\\EASEMYTRIP.csv\n",
      "Fetching data for NYKAA.NS...\n"
     ]
    },
    {
     "name": "stderr",
     "output_type": "stream",
     "text": [
      "[*********************100%%**********************]  1 of 1 completed\n",
      "[*********************100%%**********************]  1 of 1 completed\n"
     ]
    },
    {
     "name": "stdout",
     "output_type": "stream",
     "text": [
      "Data saved to stock_data\\Consumer Services\\NYKAA.csv\n",
      "Fetching data for INDIAMART.NS...\n",
      "Data saved to stock_data\\Consumer Services\\INDIAMART.csv\n",
      "Fetching data for INDHOTEL.NS...\n"
     ]
    },
    {
     "name": "stderr",
     "output_type": "stream",
     "text": [
      "[*********************100%%**********************]  1 of 1 completed\n",
      "[*********************100%%**********************]  1 of 1 completed\n"
     ]
    },
    {
     "name": "stdout",
     "output_type": "stream",
     "text": [
      "Data saved to stock_data\\Consumer Services\\INDHOTEL.csv\n",
      "Fetching data for IRCTC.NS...\n",
      "Data saved to stock_data\\Consumer Services\\IRCTC.csv\n",
      "Fetching data for NAUKRI.NS...\n"
     ]
    },
    {
     "name": "stderr",
     "output_type": "stream",
     "text": [
      "[*********************100%%**********************]  1 of 1 completed\n",
      "[*********************100%%**********************]  1 of 1 completed\n"
     ]
    },
    {
     "name": "stdout",
     "output_type": "stream",
     "text": [
      "Data saved to stock_data\\Consumer Services\\NAUKRI.csv\n",
      "Fetching data for JUBLFOOD.NS...\n",
      "Data saved to stock_data\\Consumer Services\\JUBLFOOD.csv\n",
      "Fetching data for JUSTDIAL.NS...\n"
     ]
    },
    {
     "name": "stderr",
     "output_type": "stream",
     "text": [
      "[*********************100%%**********************]  1 of 1 completed\n",
      "[*********************100%%**********************]  1 of 1 completed\n"
     ]
    },
    {
     "name": "stdout",
     "output_type": "stream",
     "text": [
      "Data saved to stock_data\\Consumer Services\\JUSTDIAL.csv\n",
      "Fetching data for LEMONTREE.NS...\n",
      "Data saved to stock_data\\Consumer Services\\LEMONTREE.csv\n",
      "Fetching data for MHRIL.NS...\n"
     ]
    },
    {
     "name": "stderr",
     "output_type": "stream",
     "text": [
      "[*********************100%%**********************]  1 of 1 completed\n",
      "[*********************100%%**********************]  1 of 1 completed\n"
     ]
    },
    {
     "name": "stdout",
     "output_type": "stream",
     "text": [
      "Data saved to stock_data\\Consumer Services\\MHRIL.csv\n",
      "Fetching data for MEDPLUS.NS...\n",
      "Data saved to stock_data\\Consumer Services\\MEDPLUS.csv\n",
      "Fetching data for RTNINDIA.NS...\n"
     ]
    },
    {
     "name": "stderr",
     "output_type": "stream",
     "text": [
      "[*********************100%%**********************]  1 of 1 completed\n",
      "[*********************100%%**********************]  1 of 1 completed\n"
     ]
    },
    {
     "name": "stdout",
     "output_type": "stream",
     "text": [
      "Data saved to stock_data\\Consumer Services\\RTNINDIA.csv\n",
      "Fetching data for RBA.NS...\n",
      "Data saved to stock_data\\Consumer Services\\RBA.csv\n",
      "Fetching data for SAPPHIRE.NS...\n"
     ]
    },
    {
     "name": "stderr",
     "output_type": "stream",
     "text": [
      "[*********************100%%**********************]  1 of 1 completed\n",
      "[*********************100%%**********************]  1 of 1 completed\n"
     ]
    },
    {
     "name": "stdout",
     "output_type": "stream",
     "text": [
      "Data saved to stock_data\\Consumer Services\\SAPPHIRE.csv\n",
      "Fetching data for TRENT.NS...\n",
      "Data saved to stock_data\\Consumer Services\\TRENT.csv\n",
      "Fetching data for MANYAVAR.NS...\n"
     ]
    },
    {
     "name": "stderr",
     "output_type": "stream",
     "text": [
      "[*********************100%%**********************]  1 of 1 completed\n",
      "[*********************100%%**********************]  1 of 1 completed\n"
     ]
    },
    {
     "name": "stdout",
     "output_type": "stream",
     "text": [
      "Data saved to stock_data\\Consumer Services\\MANYAVAR.csv\n",
      "Fetching data for WESTLIFE.NS...\n",
      "Data saved to stock_data\\Consumer Services\\WESTLIFE.csv\n",
      "Fetching data for ZOMATO.NS...\n"
     ]
    },
    {
     "name": "stderr",
     "output_type": "stream",
     "text": [
      "[*********************100%%**********************]  1 of 1 completed\n",
      "[*********************100%%**********************]  1 of 1 completed\n"
     ]
    },
    {
     "name": "stdout",
     "output_type": "stream",
     "text": [
      "Data saved to stock_data\\Consumer Services\\ZOMATO.csv\n",
      "Fetching data for 3MINDIA.NS...\n",
      "Data saved to stock_data\\Diversified\\3MINDIA.csv\n",
      "Fetching data for DCMSHRIRAM.NS...\n"
     ]
    },
    {
     "name": "stderr",
     "output_type": "stream",
     "text": [
      "[*********************100%%**********************]  1 of 1 completed\n",
      "[*********************100%%**********************]  1 of 1 completed\n"
     ]
    },
    {
     "name": "stdout",
     "output_type": "stream",
     "text": [
      "Data saved to stock_data\\Diversified\\DCMSHRIRAM.csv\n",
      "Fetching data for GODREJIND.NS...\n",
      "Data saved to stock_data\\Diversified\\GODREJIND.csv\n",
      "Fetching data for SWANENERGY.NS...\n"
     ]
    },
    {
     "name": "stderr",
     "output_type": "stream",
     "text": [
      "[*********************100%%**********************]  1 of 1 completed\n",
      "[*********************100%%**********************]  1 of 1 completed\n"
     ]
    },
    {
     "name": "stdout",
     "output_type": "stream",
     "text": [
      "Data saved to stock_data\\Diversified\\SWANENERGY.csv\n",
      "Fetching data for AWL.NS...\n",
      "Data saved to stock_data\\Fast Moving Consumer Goods\\AWL.csv\n",
      "Fetching data for AVANTIFEED.NS...\n"
     ]
    },
    {
     "name": "stderr",
     "output_type": "stream",
     "text": [
      "[*********************100%%**********************]  1 of 1 completed\n",
      "[*********************100%%**********************]  1 of 1 completed\n"
     ]
    },
    {
     "name": "stdout",
     "output_type": "stream",
     "text": [
      "Data saved to stock_data\\Fast Moving Consumer Goods\\AVANTIFEED.csv\n",
      "Fetching data for BALRAMCHIN.NS...\n",
      "Data saved to stock_data\\Fast Moving Consumer Goods\\BALRAMCHIN.csv\n",
      "Fetching data for BIKAJI.NS...\n"
     ]
    },
    {
     "name": "stderr",
     "output_type": "stream",
     "text": [
      "[*********************100%%**********************]  1 of 1 completed\n",
      "[*********************100%%**********************]  1 of 1 completed\n"
     ]
    },
    {
     "name": "stdout",
     "output_type": "stream",
     "text": [
      "Data saved to stock_data\\Fast Moving Consumer Goods\\BIKAJI.csv\n",
      "Fetching data for BBTC.NS...\n",
      "Data saved to stock_data\\Fast Moving Consumer Goods\\BBTC.csv\n",
      "Fetching data for BRITANNIA.NS...\n"
     ]
    },
    {
     "name": "stderr",
     "output_type": "stream",
     "text": [
      "[*********************100%%**********************]  1 of 1 completed\n",
      "[*********************100%%**********************]  1 of 1 completed\n"
     ]
    },
    {
     "name": "stdout",
     "output_type": "stream",
     "text": [
      "Data saved to stock_data\\Fast Moving Consumer Goods\\BRITANNIA.csv\n",
      "Fetching data for CCL.NS...\n",
      "Data saved to stock_data\\Fast Moving Consumer Goods\\CCL.csv\n",
      "Fetching data for COLPAL.NS...\n"
     ]
    },
    {
     "name": "stderr",
     "output_type": "stream",
     "text": [
      "[*********************100%%**********************]  1 of 1 completed\n",
      "[*********************100%%**********************]  1 of 1 completed\n"
     ]
    },
    {
     "name": "stdout",
     "output_type": "stream",
     "text": [
      "Data saved to stock_data\\Fast Moving Consumer Goods\\COLPAL.csv\n",
      "Fetching data for DOMS.NS...\n",
      "Data saved to stock_data\\Fast Moving Consumer Goods\\DOMS.csv\n",
      "Fetching data for DABUR.NS...\n"
     ]
    },
    {
     "name": "stderr",
     "output_type": "stream",
     "text": [
      "[*********************100%%**********************]  1 of 1 completed\n",
      "[*********************100%%**********************]  1 of 1 completed\n"
     ]
    },
    {
     "name": "stdout",
     "output_type": "stream",
     "text": [
      "Data saved to stock_data\\Fast Moving Consumer Goods\\DABUR.csv\n",
      "Fetching data for EMAMILTD.NS...\n",
      "Data saved to stock_data\\Fast Moving Consumer Goods\\EMAMILTD.csv\n",
      "Fetching data for GILLETTE.NS...\n"
     ]
    },
    {
     "name": "stderr",
     "output_type": "stream",
     "text": [
      "[*********************100%%**********************]  1 of 1 completed\n",
      "[*********************100%%**********************]  1 of 1 completed\n"
     ]
    },
    {
     "name": "stdout",
     "output_type": "stream",
     "text": [
      "Data saved to stock_data\\Fast Moving Consumer Goods\\GILLETTE.csv\n",
      "Fetching data for GODFRYPHLP.NS...\n",
      "Data saved to stock_data\\Fast Moving Consumer Goods\\GODFRYPHLP.csv\n",
      "Fetching data for GODREJCP.NS...\n"
     ]
    },
    {
     "name": "stderr",
     "output_type": "stream",
     "text": [
      "[*********************100%%**********************]  1 of 1 completed\n",
      "[*********************100%%**********************]  1 of 1 completed\n"
     ]
    },
    {
     "name": "stdout",
     "output_type": "stream",
     "text": [
      "Data saved to stock_data\\Fast Moving Consumer Goods\\GODREJCP.csv\n",
      "Fetching data for GAEL.NS...\n",
      "Data saved to stock_data\\Fast Moving Consumer Goods\\GAEL.csv\n",
      "Fetching data for HINDUNILVR.NS...\n"
     ]
    },
    {
     "name": "stderr",
     "output_type": "stream",
     "text": [
      "[*********************100%%**********************]  1 of 1 completed\n",
      "[*********************100%%**********************]  1 of 1 completed\n"
     ]
    },
    {
     "name": "stdout",
     "output_type": "stream",
     "text": [
      "Data saved to stock_data\\Fast Moving Consumer Goods\\HINDUNILVR.csv\n",
      "Fetching data for HONASA.NS...\n",
      "Data saved to stock_data\\Fast Moving Consumer Goods\\HONASA.csv\n",
      "Fetching data for ITC.NS...\n"
     ]
    },
    {
     "name": "stderr",
     "output_type": "stream",
     "text": [
      "[*********************100%%**********************]  1 of 1 completed\n",
      "[*********************100%%**********************]  1 of 1 completed\n"
     ]
    },
    {
     "name": "stdout",
     "output_type": "stream",
     "text": [
      "Data saved to stock_data\\Fast Moving Consumer Goods\\ITC.csv\n",
      "Fetching data for JYOTHYLAB.NS...\n",
      "Data saved to stock_data\\Fast Moving Consumer Goods\\JYOTHYLAB.csv\n",
      "Fetching data for KRBL.NS...\n"
     ]
    },
    {
     "name": "stderr",
     "output_type": "stream",
     "text": [
      "[*********************100%%**********************]  1 of 1 completed\n",
      "[*********************100%%**********************]  1 of 1 completed\n"
     ]
    },
    {
     "name": "stdout",
     "output_type": "stream",
     "text": [
      "Data saved to stock_data\\Fast Moving Consumer Goods\\KRBL.csv\n",
      "Fetching data for MARICO.NS...\n",
      "Data saved to stock_data\\Fast Moving Consumer Goods\\MARICO.csv\n",
      "Fetching data for NESTLEIND.NS...\n"
     ]
    },
    {
     "name": "stderr",
     "output_type": "stream",
     "text": [
      "[*********************100%%**********************]  1 of 1 completed\n",
      "[*********************100%%**********************]  1 of 1 completed\n"
     ]
    },
    {
     "name": "stdout",
     "output_type": "stream",
     "text": [
      "Data saved to stock_data\\Fast Moving Consumer Goods\\NESTLEIND.csv\n",
      "Fetching data for PATANJALI.NS...\n",
      "Data saved to stock_data\\Fast Moving Consumer Goods\\PATANJALI.csv\n",
      "Fetching data for PGHH.NS...\n"
     ]
    },
    {
     "name": "stderr",
     "output_type": "stream",
     "text": [
      "[*********************100%%**********************]  1 of 1 completed\n",
      "[*********************100%%**********************]  1 of 1 completed\n"
     ]
    },
    {
     "name": "stdout",
     "output_type": "stream",
     "text": [
      "Data saved to stock_data\\Fast Moving Consumer Goods\\PGHH.csv\n",
      "Fetching data for RADICO.NS...\n",
      "Data saved to stock_data\\Fast Moving Consumer Goods\\RADICO.csv\n",
      "Fetching data for RENUKA.NS...\n"
     ]
    },
    {
     "name": "stderr",
     "output_type": "stream",
     "text": [
      "[*********************100%%**********************]  1 of 1 completed\n",
      "[*********************100%%**********************]  1 of 1 completed\n"
     ]
    },
    {
     "name": "stdout",
     "output_type": "stream",
     "text": [
      "Data saved to stock_data\\Fast Moving Consumer Goods\\RENUKA.csv\n",
      "Fetching data for TATACONSUM.NS...\n",
      "Data saved to stock_data\\Fast Moving Consumer Goods\\TATACONSUM.csv\n",
      "Fetching data for TRIVENI.NS...\n"
     ]
    },
    {
     "name": "stderr",
     "output_type": "stream",
     "text": [
      "[*********************100%%**********************]  1 of 1 completed\n",
      "[*********************100%%**********************]  1 of 1 completed\n"
     ]
    },
    {
     "name": "stdout",
     "output_type": "stream",
     "text": [
      "Data saved to stock_data\\Fast Moving Consumer Goods\\TRIVENI.csv\n",
      "Fetching data for UBL.NS...\n",
      "Data saved to stock_data\\Fast Moving Consumer Goods\\UBL.csv\n",
      "Fetching data for UNITDSPR.NS...\n"
     ]
    },
    {
     "name": "stderr",
     "output_type": "stream",
     "text": [
      "[*********************100%%**********************]  1 of 1 completed\n",
      "[*********************100%%**********************]  1 of 1 completed\n"
     ]
    },
    {
     "name": "stdout",
     "output_type": "stream",
     "text": [
      "Data saved to stock_data\\Fast Moving Consumer Goods\\UNITDSPR.csv\n",
      "Fetching data for VBL.NS...\n",
      "Data saved to stock_data\\Fast Moving Consumer Goods\\VBL.csv\n",
      "Fetching data for 360ONE.NS...\n"
     ]
    },
    {
     "name": "stderr",
     "output_type": "stream",
     "text": [
      "[*********************100%%**********************]  1 of 1 completed\n",
      "[*********************100%%**********************]  1 of 1 completed"
     ]
    },
    {
     "name": "stdout",
     "output_type": "stream",
     "text": [
      "Data saved to stock_data\\Financial Services\\360ONE.csv\n",
      "Fetching data for AUBANK.NS...\n",
      "Data saved to stock_data\\Financial Services\\AUBANK.csv\n",
      "Fetching data for AAVAS.NS...\n"
     ]
    },
    {
     "name": "stderr",
     "output_type": "stream",
     "text": [
      "\n",
      "[*********************100%%**********************]  1 of 1 completed\n",
      "[*********************100%%**********************]  1 of 1 completed"
     ]
    },
    {
     "name": "stdout",
     "output_type": "stream",
     "text": [
      "Data saved to stock_data\\Financial Services\\AAVAS.csv\n",
      "Fetching data for ABCAPITAL.NS...\n",
      "Data saved to stock_data\\Financial Services\\ABCAPITAL.csv\n",
      "Fetching data for ANANDRATHI.NS...\n"
     ]
    },
    {
     "name": "stderr",
     "output_type": "stream",
     "text": [
      "\n",
      "[*********************100%%**********************]  1 of 1 completed\n",
      "[*********************100%%**********************]  1 of 1 completed\n"
     ]
    },
    {
     "name": "stdout",
     "output_type": "stream",
     "text": [
      "Data saved to stock_data\\Financial Services\\ANANDRATHI.csv\n",
      "Fetching data for ANGELONE.NS...\n",
      "Data saved to stock_data\\Financial Services\\ANGELONE.csv\n",
      "Fetching data for APTUS.NS...\n"
     ]
    },
    {
     "name": "stderr",
     "output_type": "stream",
     "text": [
      "[*********************100%%**********************]  1 of 1 completed\n",
      "[*********************100%%**********************]  1 of 1 completed\n"
     ]
    },
    {
     "name": "stdout",
     "output_type": "stream",
     "text": [
      "Data saved to stock_data\\Financial Services\\APTUS.csv\n",
      "Fetching data for AXISBANK.NS...\n",
      "Data saved to stock_data\\Financial Services\\AXISBANK.csv\n",
      "Fetching data for BSE.NS...\n"
     ]
    },
    {
     "name": "stderr",
     "output_type": "stream",
     "text": [
      "[*********************100%%**********************]  1 of 1 completed\n",
      "[*********************100%%**********************]  1 of 1 completed\n"
     ]
    },
    {
     "name": "stdout",
     "output_type": "stream",
     "text": [
      "Data saved to stock_data\\Financial Services\\BSE.csv\n",
      "Fetching data for BAJFINANCE.NS...\n",
      "Data saved to stock_data\\Financial Services\\BAJFINANCE.csv\n",
      "Fetching data for BAJAJFINSV.NS...\n"
     ]
    },
    {
     "name": "stderr",
     "output_type": "stream",
     "text": [
      "[*********************100%%**********************]  1 of 1 completed\n",
      "[*********************100%%**********************]  1 of 1 completed\n"
     ]
    },
    {
     "name": "stdout",
     "output_type": "stream",
     "text": [
      "Data saved to stock_data\\Financial Services\\BAJAJFINSV.csv\n",
      "Fetching data for BAJAJHLDNG.NS...\n",
      "Data saved to stock_data\\Financial Services\\BAJAJHLDNG.csv\n",
      "Fetching data for BANDHANBNK.NS...\n"
     ]
    },
    {
     "name": "stderr",
     "output_type": "stream",
     "text": [
      "[*********************100%%**********************]  1 of 1 completed\n",
      "[*********************100%%**********************]  1 of 1 completed\n"
     ]
    },
    {
     "name": "stdout",
     "output_type": "stream",
     "text": [
      "Data saved to stock_data\\Financial Services\\BANDHANBNK.csv\n",
      "Fetching data for BANKBARODA.NS...\n",
      "Data saved to stock_data\\Financial Services\\BANKBARODA.csv\n",
      "Fetching data for BANKINDIA.NS...\n"
     ]
    },
    {
     "name": "stderr",
     "output_type": "stream",
     "text": [
      "[*********************100%%**********************]  1 of 1 completed\n",
      "[*********************100%%**********************]  1 of 1 completed\n"
     ]
    },
    {
     "name": "stdout",
     "output_type": "stream",
     "text": [
      "Data saved to stock_data\\Financial Services\\BANKINDIA.csv\n",
      "Fetching data for MAHABANK.NS...\n",
      "Data saved to stock_data\\Financial Services\\MAHABANK.csv\n",
      "Fetching data for CRISIL.NS...\n"
     ]
    },
    {
     "name": "stderr",
     "output_type": "stream",
     "text": [
      "[*********************100%%**********************]  1 of 1 completed\n",
      "[*********************100%%**********************]  1 of 1 completed\n"
     ]
    },
    {
     "name": "stdout",
     "output_type": "stream",
     "text": [
      "Data saved to stock_data\\Financial Services\\CRISIL.csv\n",
      "Fetching data for CSBBANK.NS...\n",
      "Data saved to stock_data\\Financial Services\\CSBBANK.csv\n",
      "Fetching data for CANFINHOME.NS...\n"
     ]
    },
    {
     "name": "stderr",
     "output_type": "stream",
     "text": [
      "[*********************100%%**********************]  1 of 1 completed\n",
      "[*********************100%%**********************]  1 of 1 completed"
     ]
    },
    {
     "name": "stdout",
     "output_type": "stream",
     "text": [
      "Data saved to stock_data\\Financial Services\\CANFINHOME.csv\n",
      "Fetching data for CANBK.NS...\n",
      "Data saved to stock_data\\Financial Services\\CANBK.csv\n",
      "Fetching data for CGCL.NS...\n"
     ]
    },
    {
     "name": "stderr",
     "output_type": "stream",
     "text": [
      "\n",
      "[*********************100%%**********************]  1 of 1 completed\n"
     ]
    },
    {
     "name": "stdout",
     "output_type": "stream",
     "text": [
      "Data saved to stock_data\\Financial Services\\CGCL.csv\n",
      "Fetching data for CENTRALBK.NS...\n"
     ]
    },
    {
     "name": "stderr",
     "output_type": "stream",
     "text": [
      "[*********************100%%**********************]  1 of 1 completed\n",
      "[*********************100%%**********************]  1 of 1 completed"
     ]
    },
    {
     "name": "stdout",
     "output_type": "stream",
     "text": [
      "Data saved to stock_data\\Financial Services\\CENTRALBK.csv\n",
      "Fetching data for CDSL.NS...\n"
     ]
    },
    {
     "name": "stderr",
     "output_type": "stream",
     "text": [
      "\n"
     ]
    },
    {
     "name": "stdout",
     "output_type": "stream",
     "text": [
      "Data saved to stock_data\\Financial Services\\CDSL.csv\n",
      "Fetching data for CHOLAHLDNG.NS...\n"
     ]
    },
    {
     "name": "stderr",
     "output_type": "stream",
     "text": [
      "[*********************100%%**********************]  1 of 1 completed\n",
      "[*********************100%%**********************]  1 of 1 completed"
     ]
    },
    {
     "name": "stdout",
     "output_type": "stream",
     "text": [
      "Data saved to stock_data\\Financial Services\\CHOLAHLDNG.csv\n",
      "Fetching data for CHOLAFIN.NS...\n"
     ]
    },
    {
     "name": "stderr",
     "output_type": "stream",
     "text": [
      "\n",
      "[*********************100%%**********************]  1 of 1 completed"
     ]
    },
    {
     "name": "stdout",
     "output_type": "stream",
     "text": [
      "Data saved to stock_data\\Financial Services\\CHOLAFIN.csv\n",
      "Fetching data for CUB.NS...\n"
     ]
    },
    {
     "name": "stderr",
     "output_type": "stream",
     "text": [
      "\n",
      "[*********************100%%**********************]  1 of 1 completed\n"
     ]
    },
    {
     "name": "stdout",
     "output_type": "stream",
     "text": [
      "Data saved to stock_data\\Financial Services\\CUB.csv\n",
      "Fetching data for CAMS.NS...\n",
      "Data saved to stock_data\\Financial Services\\CAMS.csv\n",
      "Fetching data for CREDITACC.NS...\n"
     ]
    },
    {
     "name": "stderr",
     "output_type": "stream",
     "text": [
      "[*********************100%%**********************]  1 of 1 completed\n",
      "[*********************100%%**********************]  1 of 1 completed\n"
     ]
    },
    {
     "name": "stdout",
     "output_type": "stream",
     "text": [
      "Data saved to stock_data\\Financial Services\\CREDITACC.csv\n",
      "Fetching data for EQUITASBNK.NS...\n",
      "Data saved to stock_data\\Financial Services\\EQUITASBNK.csv\n",
      "Fetching data for FEDERALBNK.NS...\n"
     ]
    },
    {
     "name": "stderr",
     "output_type": "stream",
     "text": [
      "[*********************100%%**********************]  1 of 1 completed\n",
      "[*********************100%%**********************]  1 of 1 completed\n"
     ]
    },
    {
     "name": "stdout",
     "output_type": "stream",
     "text": [
      "Data saved to stock_data\\Financial Services\\FEDERALBNK.csv\n",
      "Fetching data for FIVESTAR.NS...\n",
      "Data saved to stock_data\\Financial Services\\FIVESTAR.csv\n",
      "Fetching data for GICRE.NS...\n"
     ]
    },
    {
     "name": "stderr",
     "output_type": "stream",
     "text": [
      "[*********************100%%**********************]  1 of 1 completed\n",
      "[*********************100%%**********************]  1 of 1 completed\n"
     ]
    },
    {
     "name": "stdout",
     "output_type": "stream",
     "text": [
      "Data saved to stock_data\\Financial Services\\GICRE.csv\n",
      "Fetching data for HDFCAMC.NS...\n",
      "Data saved to stock_data\\Financial Services\\HDFCAMC.csv\n",
      "Fetching data for HDFCBANK.NS...\n"
     ]
    },
    {
     "name": "stderr",
     "output_type": "stream",
     "text": [
      "[*********************100%%**********************]  1 of 1 completed\n",
      "[*********************100%%**********************]  1 of 1 completed\n"
     ]
    },
    {
     "name": "stdout",
     "output_type": "stream",
     "text": [
      "Data saved to stock_data\\Financial Services\\HDFCBANK.csv\n",
      "Fetching data for HDFCLIFE.NS...\n",
      "Data saved to stock_data\\Financial Services\\HDFCLIFE.csv\n",
      "Fetching data for HOMEFIRST.NS...\n"
     ]
    },
    {
     "name": "stderr",
     "output_type": "stream",
     "text": [
      "[*********************100%%**********************]  1 of 1 completed\n",
      "[*********************100%%**********************]  1 of 1 completed\n"
     ]
    },
    {
     "name": "stdout",
     "output_type": "stream",
     "text": [
      "Data saved to stock_data\\Financial Services\\HOMEFIRST.csv\n",
      "Fetching data for HUDCO.NS...\n",
      "Data saved to stock_data\\Financial Services\\HUDCO.csv\n",
      "Fetching data for ICICIBANK.NS...\n"
     ]
    },
    {
     "name": "stderr",
     "output_type": "stream",
     "text": [
      "[*********************100%%**********************]  1 of 1 completed\n",
      "[*********************100%%**********************]  1 of 1 completed\n"
     ]
    },
    {
     "name": "stdout",
     "output_type": "stream",
     "text": [
      "Data saved to stock_data\\Financial Services\\ICICIBANK.csv\n",
      "Fetching data for ICICIGI.NS...\n",
      "Data saved to stock_data\\Financial Services\\ICICIGI.csv\n",
      "Fetching data for ICICIPRULI.NS...\n"
     ]
    },
    {
     "name": "stderr",
     "output_type": "stream",
     "text": [
      "[*********************100%%**********************]  1 of 1 completed\n",
      "[*********************100%%**********************]  1 of 1 completed\n"
     ]
    },
    {
     "name": "stdout",
     "output_type": "stream",
     "text": [
      "Data saved to stock_data\\Financial Services\\ICICIPRULI.csv\n",
      "Fetching data for ISEC.NS...\n",
      "Data saved to stock_data\\Financial Services\\ISEC.csv\n",
      "Fetching data for IDBI.NS...\n"
     ]
    },
    {
     "name": "stderr",
     "output_type": "stream",
     "text": [
      "[*********************100%%**********************]  1 of 1 completed\n",
      "[*********************100%%**********************]  1 of 1 completed\n"
     ]
    },
    {
     "name": "stdout",
     "output_type": "stream",
     "text": [
      "Data saved to stock_data\\Financial Services\\IDBI.csv\n",
      "Fetching data for IDFCFIRSTB.NS...\n",
      "Data saved to stock_data\\Financial Services\\IDFCFIRSTB.csv\n",
      "Fetching data for IDFC.NS...\n"
     ]
    },
    {
     "name": "stderr",
     "output_type": "stream",
     "text": [
      "[*********************100%%**********************]  1 of 1 completed\n",
      "[*********************100%%**********************]  1 of 1 completed\n"
     ]
    },
    {
     "name": "stdout",
     "output_type": "stream",
     "text": [
      "Data saved to stock_data\\Financial Services\\IDFC.csv\n",
      "Fetching data for IIFL.NS...\n",
      "Data saved to stock_data\\Financial Services\\IIFL.csv\n",
      "Fetching data for INDIANB.NS...\n"
     ]
    },
    {
     "name": "stderr",
     "output_type": "stream",
     "text": [
      "[*********************100%%**********************]  1 of 1 completed\n",
      "[*********************100%%**********************]  1 of 1 completed\n"
     ]
    },
    {
     "name": "stdout",
     "output_type": "stream",
     "text": [
      "Data saved to stock_data\\Financial Services\\INDIANB.csv\n",
      "Fetching data for IEX.NS...\n",
      "Data saved to stock_data\\Financial Services\\IEX.csv\n",
      "Fetching data for IOB.NS...\n"
     ]
    },
    {
     "name": "stderr",
     "output_type": "stream",
     "text": [
      "[*********************100%%**********************]  1 of 1 completed\n",
      "[*********************100%%**********************]  1 of 1 completed\n"
     ]
    },
    {
     "name": "stdout",
     "output_type": "stream",
     "text": [
      "Data saved to stock_data\\Financial Services\\IOB.csv\n",
      "Fetching data for IRFC.NS...\n",
      "Data saved to stock_data\\Financial Services\\IRFC.csv\n",
      "Fetching data for INDUSINDBK.NS...\n"
     ]
    },
    {
     "name": "stderr",
     "output_type": "stream",
     "text": [
      "[*********************100%%**********************]  1 of 1 completed\n",
      "[*********************100%%**********************]  1 of 1 completed\n"
     ]
    },
    {
     "name": "stdout",
     "output_type": "stream",
     "text": [
      "Data saved to stock_data\\Financial Services\\INDUSINDBK.csv\n",
      "Fetching data for JMFINANCIL.NS...\n",
      "Data saved to stock_data\\Financial Services\\JMFINANCIL.csv\n",
      "Fetching data for J&KBANK.NS...\n"
     ]
    },
    {
     "name": "stderr",
     "output_type": "stream",
     "text": [
      "[*********************100%%**********************]  1 of 1 completed\n",
      "[*********************100%%**********************]  1 of 1 completed\n"
     ]
    },
    {
     "name": "stdout",
     "output_type": "stream",
     "text": [
      "Data saved to stock_data\\Financial Services\\J&KBANK.csv\n",
      "Fetching data for JIOFIN.NS...\n",
      "Data saved to stock_data\\Financial Services\\JIOFIN.csv\n",
      "Fetching data for KARURVYSYA.NS...\n"
     ]
    },
    {
     "name": "stderr",
     "output_type": "stream",
     "text": [
      "[*********************100%%**********************]  1 of 1 completed\n",
      "[*********************100%%**********************]  1 of 1 completed\n"
     ]
    },
    {
     "name": "stdout",
     "output_type": "stream",
     "text": [
      "Data saved to stock_data\\Financial Services\\KARURVYSYA.csv\n",
      "Fetching data for KFINTECH.NS...\n",
      "Data saved to stock_data\\Financial Services\\KFINTECH.csv\n",
      "Fetching data for KOTAKBANK.NS...\n"
     ]
    },
    {
     "name": "stderr",
     "output_type": "stream",
     "text": [
      "[*********************100%%**********************]  1 of 1 completed\n",
      "[*********************100%%**********************]  1 of 1 completed"
     ]
    },
    {
     "name": "stdout",
     "output_type": "stream",
     "text": [
      "Data saved to stock_data\\Financial Services\\KOTAKBANK.csv\n",
      "Fetching data for LTF.NS...\n",
      "Data saved to stock_data\\Financial Services\\LTF.csv\n",
      "Fetching data for LICHSGFIN.NS...\n"
     ]
    },
    {
     "name": "stderr",
     "output_type": "stream",
     "text": [
      "\n",
      "[*********************100%%**********************]  1 of 1 completed\n",
      "[*********************100%%**********************]  1 of 1 completed\n"
     ]
    },
    {
     "name": "stdout",
     "output_type": "stream",
     "text": [
      "Data saved to stock_data\\Financial Services\\LICHSGFIN.csv\n",
      "Fetching data for LICI.NS...\n",
      "Data saved to stock_data\\Financial Services\\LICI.csv\n",
      "Fetching data for M&MFIN.NS...\n"
     ]
    },
    {
     "name": "stderr",
     "output_type": "stream",
     "text": [
      "[*********************100%%**********************]  1 of 1 completed\n",
      "[*********************100%%**********************]  1 of 1 completed\n"
     ]
    },
    {
     "name": "stdout",
     "output_type": "stream",
     "text": [
      "Data saved to stock_data\\Financial Services\\M&MFIN.csv\n",
      "Fetching data for MANAPPURAM.NS...\n",
      "Data saved to stock_data\\Financial Services\\MANAPPURAM.csv\n",
      "Fetching data for MFSL.NS...\n"
     ]
    },
    {
     "name": "stderr",
     "output_type": "stream",
     "text": [
      "[*********************100%%**********************]  1 of 1 completed\n",
      "[*********************100%%**********************]  1 of 1 completed\n"
     ]
    },
    {
     "name": "stdout",
     "output_type": "stream",
     "text": [
      "Data saved to stock_data\\Financial Services\\MFSL.csv\n",
      "Fetching data for MOTILALOFS.NS...\n",
      "Data saved to stock_data\\Financial Services\\MOTILALOFS.csv\n",
      "Fetching data for MCX.NS...\n"
     ]
    },
    {
     "name": "stderr",
     "output_type": "stream",
     "text": [
      "[*********************100%%**********************]  1 of 1 completed\n",
      "[*********************100%%**********************]  1 of 1 completed\n"
     ]
    },
    {
     "name": "stdout",
     "output_type": "stream",
     "text": [
      "Data saved to stock_data\\Financial Services\\MCX.csv\n",
      "Fetching data for MUTHOOTFIN.NS...\n",
      "Data saved to stock_data\\Financial Services\\MUTHOOTFIN.csv\n",
      "Fetching data for NAM-INDIA.NS...\n"
     ]
    },
    {
     "name": "stderr",
     "output_type": "stream",
     "text": [
      "[*********************100%%**********************]  1 of 1 completed\n",
      "[*********************100%%**********************]  1 of 1 completed\n",
      "[*********************100%%**********************]  1 of 1 completed"
     ]
    },
    {
     "name": "stdout",
     "output_type": "stream",
     "text": [
      "Data saved to stock_data\\Financial Services\\NAM-INDIA.csv\n",
      "Fetching data for NUVAMA.NS...\n",
      "Data saved to stock_data\\Financial Services\\NUVAMA.csv\n",
      "Fetching data for PAYTM.NS...\n"
     ]
    },
    {
     "name": "stderr",
     "output_type": "stream",
     "text": [
      "\n",
      "[*********************100%%**********************]  1 of 1 completed\n"
     ]
    },
    {
     "name": "stdout",
     "output_type": "stream",
     "text": [
      "Data saved to stock_data\\Financial Services\\PAYTM.csv\n",
      "Fetching data for POLICYBZR.NS...\n",
      "Data saved to stock_data\\Financial Services\\POLICYBZR.csv\n",
      "Fetching data for PNBHOUSING.NS...\n"
     ]
    },
    {
     "name": "stderr",
     "output_type": "stream",
     "text": [
      "[*********************100%%**********************]  1 of 1 completed\n"
     ]
    },
    {
     "name": "stdout",
     "output_type": "stream",
     "text": [
      "Data saved to stock_data\\Financial Services\\PNBHOUSING.csv\n",
      "Fetching data for PEL.NS...\n"
     ]
    },
    {
     "name": "stderr",
     "output_type": "stream",
     "text": [
      "[*********************100%%**********************]  1 of 1 completed\n",
      "[*********************100%%**********************]  1 of 1 completed\n"
     ]
    },
    {
     "name": "stdout",
     "output_type": "stream",
     "text": [
      "Data saved to stock_data\\Financial Services\\PEL.csv\n",
      "Fetching data for POONAWALLA.NS...\n",
      "Data saved to stock_data\\Financial Services\\POONAWALLA.csv\n",
      "Fetching data for PFC.NS...\n"
     ]
    },
    {
     "name": "stderr",
     "output_type": "stream",
     "text": [
      "[*********************100%%**********************]  1 of 1 completed\n",
      "[*********************100%%**********************]  1 of 1 completed\n"
     ]
    },
    {
     "name": "stdout",
     "output_type": "stream",
     "text": [
      "Data saved to stock_data\\Financial Services\\PFC.csv\n",
      "Fetching data for PNB.NS...\n",
      "Data saved to stock_data\\Financial Services\\PNB.csv\n",
      "Fetching data for RBLBANK.NS...\n"
     ]
    },
    {
     "name": "stderr",
     "output_type": "stream",
     "text": [
      "[*********************100%%**********************]  1 of 1 completed\n",
      "[*********************100%%**********************]  1 of 1 completed\n"
     ]
    },
    {
     "name": "stdout",
     "output_type": "stream",
     "text": [
      "Data saved to stock_data\\Financial Services\\RBLBANK.csv\n",
      "Fetching data for RECLTD.NS...\n",
      "Data saved to stock_data\\Financial Services\\RECLTD.csv\n",
      "Fetching data for SBFC.NS...\n"
     ]
    },
    {
     "name": "stderr",
     "output_type": "stream",
     "text": [
      "[*********************100%%**********************]  1 of 1 completed\n",
      "[*********************100%%**********************]  1 of 1 completed\n"
     ]
    },
    {
     "name": "stdout",
     "output_type": "stream",
     "text": [
      "Data saved to stock_data\\Financial Services\\SBFC.csv\n",
      "Fetching data for SBICARD.NS...\n",
      "Data saved to stock_data\\Financial Services\\SBICARD.csv\n",
      "Fetching data for SBILIFE.NS...\n"
     ]
    },
    {
     "name": "stderr",
     "output_type": "stream",
     "text": [
      "[*********************100%%**********************]  1 of 1 completed\n",
      "[*********************100%%**********************]  1 of 1 completed"
     ]
    },
    {
     "name": "stdout",
     "output_type": "stream",
     "text": [
      "Data saved to stock_data\\Financial Services\\SBILIFE.csv\n",
      "Fetching data for SAMMAANCAP.NS...\n",
      "Data saved to stock_data\\Financial Services\\SAMMAANCAP.csv\n",
      "Fetching data for SHRIRAMFIN.NS...\n"
     ]
    },
    {
     "name": "stderr",
     "output_type": "stream",
     "text": [
      "\n",
      "[*********************100%%**********************]  1 of 1 completed\n",
      "[*********************100%%**********************]  1 of 1 completed\n"
     ]
    },
    {
     "name": "stdout",
     "output_type": "stream",
     "text": [
      "Data saved to stock_data\\Financial Services\\SHRIRAMFIN.csv\n",
      "Fetching data for STARHEALTH.NS...\n",
      "Data saved to stock_data\\Financial Services\\STARHEALTH.csv\n",
      "Fetching data for SBIN.NS...\n"
     ]
    },
    {
     "name": "stderr",
     "output_type": "stream",
     "text": [
      "[*********************100%%**********************]  1 of 1 completed\n",
      "[*********************100%%**********************]  1 of 1 completed\n"
     ]
    },
    {
     "name": "stdout",
     "output_type": "stream",
     "text": [
      "Data saved to stock_data\\Financial Services\\SBIN.csv\n",
      "Fetching data for SUNDARMFIN.NS...\n",
      "Data saved to stock_data\\Financial Services\\SUNDARMFIN.csv\n",
      "Fetching data for TMB.NS...\n"
     ]
    },
    {
     "name": "stderr",
     "output_type": "stream",
     "text": [
      "[*********************100%%**********************]  1 of 1 completed\n",
      "[*********************100%%**********************]  1 of 1 completed\n"
     ]
    },
    {
     "name": "stdout",
     "output_type": "stream",
     "text": [
      "Data saved to stock_data\\Financial Services\\TMB.csv\n",
      "Fetching data for TATAINVEST.NS...\n",
      "Data saved to stock_data\\Financial Services\\TATAINVEST.csv\n",
      "Fetching data for NIACL.NS...\n"
     ]
    },
    {
     "name": "stderr",
     "output_type": "stream",
     "text": [
      "[*********************100%%**********************]  1 of 1 completed\n",
      "[*********************100%%**********************]  1 of 1 completed\n"
     ]
    },
    {
     "name": "stdout",
     "output_type": "stream",
     "text": [
      "Data saved to stock_data\\Financial Services\\NIACL.csv\n",
      "Fetching data for UCOBANK.NS...\n",
      "Data saved to stock_data\\Financial Services\\UCOBANK.csv\n",
      "Fetching data for UTIAMC.NS...\n"
     ]
    },
    {
     "name": "stderr",
     "output_type": "stream",
     "text": [
      "[*********************100%%**********************]  1 of 1 completed\n",
      "[*********************100%%**********************]  1 of 1 completed\n"
     ]
    },
    {
     "name": "stdout",
     "output_type": "stream",
     "text": [
      "Data saved to stock_data\\Financial Services\\UTIAMC.csv\n",
      "Fetching data for UJJIVANSFB.NS...\n",
      "Data saved to stock_data\\Financial Services\\UJJIVANSFB.csv\n",
      "Fetching data for UNIONBANK.NS...\n"
     ]
    },
    {
     "name": "stderr",
     "output_type": "stream",
     "text": [
      "[*********************100%%**********************]  1 of 1 completed\n",
      "[*********************100%%**********************]  1 of 1 completed\n"
     ]
    },
    {
     "name": "stdout",
     "output_type": "stream",
     "text": [
      "Data saved to stock_data\\Financial Services\\UNIONBANK.csv\n",
      "Fetching data for YESBANK.NS...\n",
      "Data saved to stock_data\\Financial Services\\YESBANK.csv\n",
      "Fetching data for CENTURYTEX.NS...\n"
     ]
    },
    {
     "name": "stderr",
     "output_type": "stream",
     "text": [
      "[*********************100%%**********************]  1 of 1 completed\n",
      "[*********************100%%**********************]  1 of 1 completed\n"
     ]
    },
    {
     "name": "stdout",
     "output_type": "stream",
     "text": [
      "Data saved to stock_data\\Forest Materials\\CENTURYTEX.csv\n",
      "Fetching data for JKPAPER.NS...\n",
      "Data saved to stock_data\\Forest Materials\\JKPAPER.csv\n",
      "Fetching data for ABBOTINDIA.NS...\n"
     ]
    },
    {
     "name": "stderr",
     "output_type": "stream",
     "text": [
      "[*********************100%%**********************]  1 of 1 completed\n",
      "[*********************100%%**********************]  1 of 1 completed\n"
     ]
    },
    {
     "name": "stdout",
     "output_type": "stream",
     "text": [
      "Data saved to stock_data\\Healthcare\\ABBOTINDIA.csv\n",
      "Fetching data for AJANTPHARM.NS...\n",
      "Data saved to stock_data\\Healthcare\\AJANTPHARM.csv\n",
      "Fetching data for APLLTD.NS...\n"
     ]
    },
    {
     "name": "stderr",
     "output_type": "stream",
     "text": [
      "[*********************100%%**********************]  1 of 1 completed\n",
      "[*********************100%%**********************]  1 of 1 completed\n"
     ]
    },
    {
     "name": "stdout",
     "output_type": "stream",
     "text": [
      "Data saved to stock_data\\Healthcare\\APLLTD.csv\n",
      "Fetching data for ALKEM.NS...\n",
      "Data saved to stock_data\\Healthcare\\ALKEM.csv\n",
      "Fetching data for APOLLOHOSP.NS...\n"
     ]
    },
    {
     "name": "stderr",
     "output_type": "stream",
     "text": [
      "[*********************100%%**********************]  1 of 1 completed\n",
      "[*********************100%%**********************]  1 of 1 completed\n"
     ]
    },
    {
     "name": "stdout",
     "output_type": "stream",
     "text": [
      "Data saved to stock_data\\Healthcare\\APOLLOHOSP.csv\n",
      "Fetching data for ASTERDM.NS...\n",
      "Data saved to stock_data\\Healthcare\\ASTERDM.csv\n",
      "Fetching data for ASTRAZEN.NS...\n"
     ]
    },
    {
     "name": "stderr",
     "output_type": "stream",
     "text": [
      "[*********************100%%**********************]  1 of 1 completed\n",
      "[*********************100%%**********************]  1 of 1 completed\n"
     ]
    },
    {
     "name": "stdout",
     "output_type": "stream",
     "text": [
      "Data saved to stock_data\\Healthcare\\ASTRAZEN.csv\n",
      "Fetching data for AUROPHARMA.NS...\n",
      "Data saved to stock_data\\Healthcare\\AUROPHARMA.csv\n",
      "Fetching data for BIOCON.NS...\n"
     ]
    },
    {
     "name": "stderr",
     "output_type": "stream",
     "text": [
      "[*********************100%%**********************]  1 of 1 completed\n",
      "[*********************100%%**********************]  1 of 1 completed\n"
     ]
    },
    {
     "name": "stdout",
     "output_type": "stream",
     "text": [
      "Data saved to stock_data\\Healthcare\\BIOCON.csv\n",
      "Fetching data for CAPLIPOINT.NS...\n",
      "Data saved to stock_data\\Healthcare\\CAPLIPOINT.csv\n",
      "Fetching data for CIPLA.NS...\n"
     ]
    },
    {
     "name": "stderr",
     "output_type": "stream",
     "text": [
      "[*********************100%%**********************]  1 of 1 completed\n",
      "[*********************100%%**********************]  1 of 1 completed\n"
     ]
    },
    {
     "name": "stdout",
     "output_type": "stream",
     "text": [
      "Data saved to stock_data\\Healthcare\\CIPLA.csv\n",
      "Fetching data for CONCORDBIO.NS...\n",
      "Data saved to stock_data\\Healthcare\\CONCORDBIO.csv\n",
      "Fetching data for DIVISLAB.NS...\n"
     ]
    },
    {
     "name": "stderr",
     "output_type": "stream",
     "text": [
      "[*********************100%%**********************]  1 of 1 completed\n",
      "[*********************100%%**********************]  1 of 1 completed\n"
     ]
    },
    {
     "name": "stdout",
     "output_type": "stream",
     "text": [
      "Data saved to stock_data\\Healthcare\\DIVISLAB.csv\n",
      "Fetching data for LALPATHLAB.NS...\n",
      "Data saved to stock_data\\Healthcare\\LALPATHLAB.csv\n",
      "Fetching data for DRREDDY.NS...\n"
     ]
    },
    {
     "name": "stderr",
     "output_type": "stream",
     "text": [
      "[*********************100%%**********************]  1 of 1 completed\n",
      "[*********************100%%**********************]  1 of 1 completed\n"
     ]
    },
    {
     "name": "stdout",
     "output_type": "stream",
     "text": [
      "Data saved to stock_data\\Healthcare\\DRREDDY.csv\n",
      "Fetching data for ERIS.NS...\n",
      "Data saved to stock_data\\Healthcare\\ERIS.csv\n",
      "Fetching data for FDC.NS...\n"
     ]
    },
    {
     "name": "stderr",
     "output_type": "stream",
     "text": [
      "[*********************100%%**********************]  1 of 1 completed\n",
      "[*********************100%%**********************]  1 of 1 completed\n"
     ]
    },
    {
     "name": "stdout",
     "output_type": "stream",
     "text": [
      "Data saved to stock_data\\Healthcare\\FDC.csv\n",
      "Fetching data for FORTIS.NS...\n",
      "Data saved to stock_data\\Healthcare\\FORTIS.csv\n",
      "Fetching data for GLAND.NS...\n"
     ]
    },
    {
     "name": "stderr",
     "output_type": "stream",
     "text": [
      "[*********************100%%**********************]  1 of 1 completed\n",
      "[*********************100%%**********************]  1 of 1 completed\n"
     ]
    },
    {
     "name": "stdout",
     "output_type": "stream",
     "text": [
      "Data saved to stock_data\\Healthcare\\GLAND.csv\n",
      "Fetching data for GLAXO.NS...\n",
      "Data saved to stock_data\\Healthcare\\GLAXO.csv\n",
      "Fetching data for GLS.NS...\n"
     ]
    },
    {
     "name": "stderr",
     "output_type": "stream",
     "text": [
      "[*********************100%%**********************]  1 of 1 completed\n",
      "[*********************100%%**********************]  1 of 1 completed\n"
     ]
    },
    {
     "name": "stdout",
     "output_type": "stream",
     "text": [
      "Data saved to stock_data\\Healthcare\\GLS.csv\n",
      "Fetching data for GLENMARK.NS...\n",
      "Data saved to stock_data\\Healthcare\\GLENMARK.csv\n",
      "Fetching data for MEDANTA.NS...\n"
     ]
    },
    {
     "name": "stderr",
     "output_type": "stream",
     "text": [
      "[*********************100%%**********************]  1 of 1 completed\n",
      "[*********************100%%**********************]  1 of 1 completed\n"
     ]
    },
    {
     "name": "stdout",
     "output_type": "stream",
     "text": [
      "Data saved to stock_data\\Healthcare\\MEDANTA.csv\n",
      "Fetching data for GRANULES.NS...\n",
      "Data saved to stock_data\\Healthcare\\GRANULES.csv\n",
      "Fetching data for IPCALAB.NS...\n"
     ]
    },
    {
     "name": "stderr",
     "output_type": "stream",
     "text": [
      "[*********************100%%**********************]  1 of 1 completed\n",
      "[*********************100%%**********************]  1 of 1 completed\n"
     ]
    },
    {
     "name": "stdout",
     "output_type": "stream",
     "text": [
      "Data saved to stock_data\\Healthcare\\IPCALAB.csv\n",
      "Fetching data for JBCHEPHARM.NS...\n",
      "Data saved to stock_data\\Healthcare\\JBCHEPHARM.csv\n",
      "Fetching data for JUBLPHARMA.NS...\n"
     ]
    },
    {
     "name": "stderr",
     "output_type": "stream",
     "text": [
      "[*********************100%%**********************]  1 of 1 completed\n",
      "[*********************100%%**********************]  1 of 1 completed\n"
     ]
    },
    {
     "name": "stdout",
     "output_type": "stream",
     "text": [
      "Data saved to stock_data\\Healthcare\\JUBLPHARMA.csv\n",
      "Fetching data for KIMS.NS...\n",
      "Data saved to stock_data\\Healthcare\\KIMS.csv\n",
      "Fetching data for LAURUSLABS.NS...\n"
     ]
    },
    {
     "name": "stderr",
     "output_type": "stream",
     "text": [
      "[*********************100%%**********************]  1 of 1 completed\n",
      "[*********************100%%**********************]  1 of 1 completed"
     ]
    },
    {
     "name": "stdout",
     "output_type": "stream",
     "text": [
      "Data saved to stock_data\\Healthcare\\LAURUSLABS.csv\n",
      "Fetching data for LUPIN.NS...\n",
      "Data saved to stock_data\\Healthcare\\LUPIN.csv\n",
      "Fetching data for MANKIND.NS...\n"
     ]
    },
    {
     "name": "stderr",
     "output_type": "stream",
     "text": [
      "\n",
      "[*********************100%%**********************]  1 of 1 completed\n",
      "[*********************100%%**********************]  1 of 1 completed\n"
     ]
    },
    {
     "name": "stdout",
     "output_type": "stream",
     "text": [
      "Data saved to stock_data\\Healthcare\\MANKIND.csv\n",
      "Fetching data for MAXHEALTH.NS...\n",
      "Data saved to stock_data\\Healthcare\\MAXHEALTH.csv\n",
      "Fetching data for METROPOLIS.NS...\n"
     ]
    },
    {
     "name": "stderr",
     "output_type": "stream",
     "text": [
      "[*********************100%%**********************]  1 of 1 completed\n",
      "[*********************100%%**********************]  1 of 1 completed"
     ]
    },
    {
     "name": "stdout",
     "output_type": "stream",
     "text": [
      "Data saved to stock_data\\Healthcare\\METROPOLIS.csv\n",
      "Fetching data for NATCOPHARM.NS...\n",
      "Data saved to stock_data\\Healthcare\\NATCOPHARM.csv\n",
      "Fetching data for NH.NS...\n"
     ]
    },
    {
     "name": "stderr",
     "output_type": "stream",
     "text": [
      "\n",
      "[*********************100%%**********************]  1 of 1 completed\n",
      "[*********************100%%**********************]  1 of 1 completed\n"
     ]
    },
    {
     "name": "stdout",
     "output_type": "stream",
     "text": [
      "Data saved to stock_data\\Healthcare\\NH.csv\n",
      "Fetching data for PPLPHARMA.NS...\n",
      "Data saved to stock_data\\Healthcare\\PPLPHARMA.csv\n",
      "Fetching data for POLYMED.NS...\n"
     ]
    },
    {
     "name": "stderr",
     "output_type": "stream",
     "text": [
      "[*********************100%%**********************]  1 of 1 completed\n",
      "[*********************100%%**********************]  1 of 1 completed\n"
     ]
    },
    {
     "name": "stdout",
     "output_type": "stream",
     "text": [
      "Data saved to stock_data\\Healthcare\\POLYMED.csv\n",
      "Fetching data for RAINBOW.NS...\n",
      "Data saved to stock_data\\Healthcare\\RAINBOW.csv\n",
      "Fetching data for SANOFI.NS...\n"
     ]
    },
    {
     "name": "stderr",
     "output_type": "stream",
     "text": [
      "[*********************100%%**********************]  1 of 1 completed\n",
      "[*********************100%%**********************]  1 of 1 completed\n"
     ]
    },
    {
     "name": "stdout",
     "output_type": "stream",
     "text": [
      "Data saved to stock_data\\Healthcare\\SANOFI.csv\n",
      "Fetching data for SPARC.NS...\n",
      "Data saved to stock_data\\Healthcare\\SPARC.csv\n",
      "Fetching data for SUNPHARMA.NS...\n"
     ]
    },
    {
     "name": "stderr",
     "output_type": "stream",
     "text": [
      "[*********************100%%**********************]  1 of 1 completed\n",
      "[*********************100%%**********************]  1 of 1 completed\n"
     ]
    },
    {
     "name": "stdout",
     "output_type": "stream",
     "text": [
      "Data saved to stock_data\\Healthcare\\SUNPHARMA.csv\n",
      "Fetching data for SUVENPHAR.NS...\n",
      "Data saved to stock_data\\Healthcare\\SUVENPHAR.csv\n",
      "Fetching data for SYNGENE.NS...\n"
     ]
    },
    {
     "name": "stderr",
     "output_type": "stream",
     "text": [
      "[*********************100%%**********************]  1 of 1 completed\n",
      "[*********************100%%**********************]  1 of 1 completed\n"
     ]
    },
    {
     "name": "stdout",
     "output_type": "stream",
     "text": [
      "Data saved to stock_data\\Healthcare\\SYNGENE.csv\n",
      "Fetching data for TORNTPHARM.NS...\n",
      "Data saved to stock_data\\Healthcare\\TORNTPHARM.csv\n",
      "Fetching data for VIJAYA.NS...\n"
     ]
    },
    {
     "name": "stderr",
     "output_type": "stream",
     "text": [
      "[*********************100%%**********************]  1 of 1 completed\n",
      "[*********************100%%**********************]  1 of 1 completed\n"
     ]
    },
    {
     "name": "stdout",
     "output_type": "stream",
     "text": [
      "Data saved to stock_data\\Healthcare\\VIJAYA.csv\n",
      "Fetching data for ZYDUSLIFE.NS...\n",
      "Data saved to stock_data\\Healthcare\\ZYDUSLIFE.csv\n",
      "Fetching data for AFFLE.NS...\n"
     ]
    },
    {
     "name": "stderr",
     "output_type": "stream",
     "text": [
      "[*********************100%%**********************]  1 of 1 completed\n",
      "[*********************100%%**********************]  1 of 1 completed\n"
     ]
    },
    {
     "name": "stdout",
     "output_type": "stream",
     "text": [
      "Data saved to stock_data\\Information Technology\\AFFLE.csv\n",
      "Fetching data for BSOFT.NS...\n",
      "Data saved to stock_data\\Information Technology\\BSOFT.csv\n",
      "Fetching data for MAPMYINDIA.NS...\n"
     ]
    },
    {
     "name": "stderr",
     "output_type": "stream",
     "text": [
      "[*********************100%%**********************]  1 of 1 completed\n",
      "[*********************100%%**********************]  1 of 1 completed\n"
     ]
    },
    {
     "name": "stdout",
     "output_type": "stream",
     "text": [
      "Data saved to stock_data\\Information Technology\\MAPMYINDIA.csv\n",
      "Fetching data for COFORGE.NS...\n",
      "Data saved to stock_data\\Information Technology\\COFORGE.csv\n",
      "Fetching data for CYIENT.NS...\n"
     ]
    },
    {
     "name": "stderr",
     "output_type": "stream",
     "text": [
      "[*********************100%%**********************]  1 of 1 completed\n",
      "[*********************100%%**********************]  1 of 1 completed\n"
     ]
    },
    {
     "name": "stdout",
     "output_type": "stream",
     "text": [
      "Data saved to stock_data\\Information Technology\\CYIENT.csv\n",
      "Fetching data for HCLTECH.NS...\n",
      "Data saved to stock_data\\Information Technology\\HCLTECH.csv\n",
      "Fetching data for HAPPSTMNDS.NS...\n"
     ]
    },
    {
     "name": "stderr",
     "output_type": "stream",
     "text": [
      "[*********************100%%**********************]  1 of 1 completed\n",
      "[*********************100%%**********************]  1 of 1 completed"
     ]
    },
    {
     "name": "stdout",
     "output_type": "stream",
     "text": [
      "Data saved to stock_data\\Information Technology\\HAPPSTMNDS.csv\n",
      "Fetching data for INFY.NS...\n",
      "Data saved to stock_data\\Information Technology\\INFY.csv\n",
      "Fetching data for INTELLECT.NS...\n"
     ]
    },
    {
     "name": "stderr",
     "output_type": "stream",
     "text": [
      "\n",
      "[*********************100%%**********************]  1 of 1 completed\n",
      "[*********************100%%**********************]  1 of 1 completed\n"
     ]
    },
    {
     "name": "stdout",
     "output_type": "stream",
     "text": [
      "Data saved to stock_data\\Information Technology\\INTELLECT.csv\n",
      "Fetching data for KPITTECH.NS...\n",
      "Data saved to stock_data\\Information Technology\\KPITTECH.csv\n",
      "Fetching data for LTTS.NS...\n"
     ]
    },
    {
     "name": "stderr",
     "output_type": "stream",
     "text": [
      "[*********************100%%**********************]  1 of 1 completed\n",
      "[*********************100%%**********************]  1 of 1 completed\n"
     ]
    },
    {
     "name": "stdout",
     "output_type": "stream",
     "text": [
      "Data saved to stock_data\\Information Technology\\LTTS.csv\n",
      "Fetching data for LTIM.NS...\n",
      "Data saved to stock_data\\Information Technology\\LTIM.csv\n",
      "Fetching data for LATENTVIEW.NS...\n"
     ]
    },
    {
     "name": "stderr",
     "output_type": "stream",
     "text": [
      "[*********************100%%**********************]  1 of 1 completed\n",
      "[*********************100%%**********************]  1 of 1 completed"
     ]
    },
    {
     "name": "stdout",
     "output_type": "stream",
     "text": [
      "Data saved to stock_data\\Information Technology\\LATENTVIEW.csv\n",
      "Fetching data for MASTEK.NS...\n",
      "Data saved to stock_data\\Information Technology\\MASTEK.csv\n",
      "Fetching data for MPHASIS.NS...\n"
     ]
    },
    {
     "name": "stderr",
     "output_type": "stream",
     "text": [
      "\n",
      "[*********************100%%**********************]  1 of 1 completed\n"
     ]
    },
    {
     "name": "stdout",
     "output_type": "stream",
     "text": [
      "Data saved to stock_data\\Information Technology\\MPHASIS.csv\n",
      "Fetching data for OFSS.NS...\n"
     ]
    },
    {
     "name": "stderr",
     "output_type": "stream",
     "text": [
      "[*********************100%%**********************]  1 of 1 completed\n"
     ]
    },
    {
     "name": "stdout",
     "output_type": "stream",
     "text": [
      "Data saved to stock_data\\Information Technology\\OFSS.csv\n",
      "Fetching data for PERSISTENT.NS...\n"
     ]
    },
    {
     "name": "stderr",
     "output_type": "stream",
     "text": [
      "[*********************100%%**********************]  1 of 1 completed\n",
      "[*********************100%%**********************]  1 of 1 completed"
     ]
    },
    {
     "name": "stdout",
     "output_type": "stream",
     "text": [
      "Data saved to stock_data\\Information Technology\\PERSISTENT.csv\n",
      "Fetching data for SONATSOFTW.NS...\n",
      "Data saved to stock_data\\Information Technology\\SONATSOFTW.csv\n",
      "Fetching data for TANLA.NS...\n"
     ]
    },
    {
     "name": "stderr",
     "output_type": "stream",
     "text": [
      "\n",
      "[*********************100%%**********************]  1 of 1 completed\n",
      "[*********************100%%**********************]  1 of 1 completed"
     ]
    },
    {
     "name": "stdout",
     "output_type": "stream",
     "text": [
      "Data saved to stock_data\\Information Technology\\TANLA.csv\n",
      "Fetching data for TCS.NS...\n"
     ]
    },
    {
     "name": "stderr",
     "output_type": "stream",
     "text": [
      "\n",
      "[*********************100%%**********************]  1 of 1 completed"
     ]
    },
    {
     "name": "stdout",
     "output_type": "stream",
     "text": [
      "Data saved to stock_data\\Information Technology\\TCS.csv\n",
      "Fetching data for TATAELXSI.NS...\n",
      "Data saved to stock_data\\Information Technology\\TATAELXSI.csv\n",
      "Fetching data for TATATECH.NS...\n"
     ]
    },
    {
     "name": "stderr",
     "output_type": "stream",
     "text": [
      "\n",
      "[*********************100%%**********************]  1 of 1 completed\n",
      "[*********************100%%**********************]  1 of 1 completed"
     ]
    },
    {
     "name": "stdout",
     "output_type": "stream",
     "text": [
      "Data saved to stock_data\\Information Technology\\TATATECH.csv\n",
      "Fetching data for TECHM.NS...\n"
     ]
    },
    {
     "name": "stderr",
     "output_type": "stream",
     "text": [
      "\n"
     ]
    },
    {
     "name": "stdout",
     "output_type": "stream",
     "text": [
      "Data saved to stock_data\\Information Technology\\TECHM.csv\n",
      "Fetching data for WIPRO.NS...\n"
     ]
    },
    {
     "name": "stderr",
     "output_type": "stream",
     "text": [
      "[*********************100%%**********************]  1 of 1 completed\n",
      "[*********************100%%**********************]  1 of 1 completed"
     ]
    },
    {
     "name": "stdout",
     "output_type": "stream",
     "text": [
      "Data saved to stock_data\\Information Technology\\WIPRO.csv\n",
      "Fetching data for ZENSARTECH.NS...\n"
     ]
    },
    {
     "name": "stderr",
     "output_type": "stream",
     "text": [
      "\n",
      "[*********************100%%**********************]  1 of 1 completed\n"
     ]
    },
    {
     "name": "stdout",
     "output_type": "stream",
     "text": [
      "Data saved to stock_data\\Information Technology\\ZENSARTECH.csv\n",
      "Fetching data for NETWORK18.NS...\n",
      "Data saved to stock_data\\Media Entertainment & Publication\\NETWORK18.csv\n",
      "Fetching data for PVRINOX.NS...\n"
     ]
    },
    {
     "name": "stderr",
     "output_type": "stream",
     "text": [
      "[*********************100%%**********************]  1 of 1 completed\n",
      "[*********************100%%**********************]  1 of 1 completed"
     ]
    },
    {
     "name": "stdout",
     "output_type": "stream",
     "text": [
      "Data saved to stock_data\\Media Entertainment & Publication\\PVRINOX.csv\n",
      "Fetching data for SAREGAMA.NS...\n"
     ]
    },
    {
     "name": "stderr",
     "output_type": "stream",
     "text": [
      "\n"
     ]
    },
    {
     "name": "stdout",
     "output_type": "stream",
     "text": [
      "Data saved to stock_data\\Media Entertainment & Publication\\SAREGAMA.csv\n",
      "Fetching data for SUNTV.NS...\n"
     ]
    },
    {
     "name": "stderr",
     "output_type": "stream",
     "text": [
      "[*********************100%%**********************]  1 of 1 completed\n",
      "[*********************100%%**********************]  1 of 1 completed\n"
     ]
    },
    {
     "name": "stdout",
     "output_type": "stream",
     "text": [
      "Data saved to stock_data\\Media Entertainment & Publication\\SUNTV.csv\n",
      "Fetching data for TV18BRDCST.NS...\n",
      "Data saved to stock_data\\Media Entertainment & Publication\\TV18BRDCST.csv\n",
      "Fetching data for ZEEL.NS...\n"
     ]
    },
    {
     "name": "stderr",
     "output_type": "stream",
     "text": [
      "[*********************100%%**********************]  1 of 1 completed\n"
     ]
    },
    {
     "name": "stdout",
     "output_type": "stream",
     "text": [
      "Data saved to stock_data\\Media Entertainment & Publication\\ZEEL.csv\n",
      "Fetching data for ADANIENT.NS...\n"
     ]
    },
    {
     "name": "stderr",
     "output_type": "stream",
     "text": [
      "[*********************100%%**********************]  1 of 1 completed\n"
     ]
    },
    {
     "name": "stdout",
     "output_type": "stream",
     "text": [
      "Data saved to stock_data\\Metals & Mining\\ADANIENT.csv\n",
      "Fetching data for GMDCLTD.NS...\n"
     ]
    },
    {
     "name": "stderr",
     "output_type": "stream",
     "text": [
      "[*********************100%%**********************]  1 of 1 completed\n"
     ]
    },
    {
     "name": "stdout",
     "output_type": "stream",
     "text": [
      "Data saved to stock_data\\Metals & Mining\\GMDCLTD.csv\n",
      "Fetching data for HINDALCO.NS...\n"
     ]
    },
    {
     "name": "stderr",
     "output_type": "stream",
     "text": [
      "[*********************100%%**********************]  1 of 1 completed\n",
      "[*********************100%%**********************]  1 of 1 completed"
     ]
    },
    {
     "name": "stdout",
     "output_type": "stream",
     "text": [
      "Data saved to stock_data\\Metals & Mining\\HINDALCO.csv\n",
      "Fetching data for HINDCOPPER.NS...\n",
      "Data saved to stock_data\\Metals & Mining\\HINDCOPPER.csv\n",
      "Fetching data for HINDZINC.NS...\n"
     ]
    },
    {
     "name": "stderr",
     "output_type": "stream",
     "text": [
      "\n",
      "[*********************100%%**********************]  1 of 1 completed\n",
      "[*********************100%%**********************]  1 of 1 completed\n"
     ]
    },
    {
     "name": "stdout",
     "output_type": "stream",
     "text": [
      "Data saved to stock_data\\Metals & Mining\\HINDZINC.csv\n",
      "Fetching data for JSWSTEEL.NS...\n",
      "Data saved to stock_data\\Metals & Mining\\JSWSTEEL.csv\n",
      "Fetching data for JSL.NS...\n"
     ]
    },
    {
     "name": "stderr",
     "output_type": "stream",
     "text": [
      "[*********************100%%**********************]  1 of 1 completed\n"
     ]
    },
    {
     "name": "stdout",
     "output_type": "stream",
     "text": [
      "Data saved to stock_data\\Metals & Mining\\JSL.csv\n",
      "Fetching data for JINDALSTEL.NS...\n"
     ]
    },
    {
     "name": "stderr",
     "output_type": "stream",
     "text": [
      "[*********************100%%**********************]  1 of 1 completed\n",
      "[*********************100%%**********************]  1 of 1 completed\n"
     ]
    },
    {
     "name": "stdout",
     "output_type": "stream",
     "text": [
      "Data saved to stock_data\\Metals & Mining\\JINDALSTEL.csv\n",
      "Fetching data for LLOYDSME.NS...\n",
      "Data saved to stock_data\\Metals & Mining\\LLOYDSME.csv\n",
      "Fetching data for NMDC.NS...\n"
     ]
    },
    {
     "name": "stderr",
     "output_type": "stream",
     "text": [
      "[*********************100%%**********************]  1 of 1 completed\n",
      "[*********************100%%**********************]  1 of 1 completed\n"
     ]
    },
    {
     "name": "stdout",
     "output_type": "stream",
     "text": [
      "Data saved to stock_data\\Metals & Mining\\NMDC.csv\n",
      "Fetching data for NSLNISP.NS...\n",
      "Data saved to stock_data\\Metals & Mining\\NSLNISP.csv\n",
      "Fetching data for NATIONALUM.NS...\n"
     ]
    },
    {
     "name": "stderr",
     "output_type": "stream",
     "text": [
      "[*********************100%%**********************]  1 of 1 completed\n",
      "[*********************100%%**********************]  1 of 1 completed"
     ]
    },
    {
     "name": "stdout",
     "output_type": "stream",
     "text": [
      "Data saved to stock_data\\Metals & Mining\\NATIONALUM.csv\n",
      "Fetching data for SAIL.NS...\n"
     ]
    },
    {
     "name": "stderr",
     "output_type": "stream",
     "text": [
      "\n"
     ]
    },
    {
     "name": "stdout",
     "output_type": "stream",
     "text": [
      "Data saved to stock_data\\Metals & Mining\\SAIL.csv\n",
      "Fetching data for TATASTEEL.NS...\n"
     ]
    },
    {
     "name": "stderr",
     "output_type": "stream",
     "text": [
      "[*********************100%%**********************]  1 of 1 completed\n",
      "[*********************100%%**********************]  1 of 1 completed"
     ]
    },
    {
     "name": "stdout",
     "output_type": "stream",
     "text": [
      "Data saved to stock_data\\Metals & Mining\\TATASTEEL.csv\n",
      "Fetching data for VEDL.NS...\n"
     ]
    },
    {
     "name": "stderr",
     "output_type": "stream",
     "text": [
      "\n",
      "[*********************100%%**********************]  1 of 1 completed"
     ]
    },
    {
     "name": "stdout",
     "output_type": "stream",
     "text": [
      "Data saved to stock_data\\Metals & Mining\\VEDL.csv\n",
      "Fetching data for ATGL.NS...\n",
      "Data saved to stock_data\\Oil Gas & Consumable Fuels\\ATGL.csv\n",
      "Fetching data for AEGISLOG.NS...\n"
     ]
    },
    {
     "name": "stderr",
     "output_type": "stream",
     "text": [
      "\n",
      "[*********************100%%**********************]  1 of 1 completed\n"
     ]
    },
    {
     "name": "stdout",
     "output_type": "stream",
     "text": [
      "Data saved to stock_data\\Oil Gas & Consumable Fuels\\AEGISLOG.csv\n",
      "Fetching data for BPCL.NS...\n"
     ]
    },
    {
     "name": "stderr",
     "output_type": "stream",
     "text": [
      "[*********************100%%**********************]  1 of 1 completed\n"
     ]
    },
    {
     "name": "stdout",
     "output_type": "stream",
     "text": [
      "Data saved to stock_data\\Oil Gas & Consumable Fuels\\BPCL.csv\n",
      "Fetching data for CASTROLIND.NS...\n"
     ]
    },
    {
     "name": "stderr",
     "output_type": "stream",
     "text": [
      "[*********************100%%**********************]  1 of 1 completed\n",
      "[*********************100%%**********************]  1 of 1 completed"
     ]
    },
    {
     "name": "stdout",
     "output_type": "stream",
     "text": [
      "Data saved to stock_data\\Oil Gas & Consumable Fuels\\CASTROLIND.csv\n",
      "Fetching data for CHENNPETRO.NS...\n"
     ]
    },
    {
     "name": "stderr",
     "output_type": "stream",
     "text": [
      "\n",
      "[*********************100%%**********************]  1 of 1 completed"
     ]
    },
    {
     "name": "stdout",
     "output_type": "stream",
     "text": [
      "Data saved to stock_data\\Oil Gas & Consumable Fuels\\CHENNPETRO.csv\n",
      "Fetching data for COALINDIA.NS...\n"
     ]
    },
    {
     "name": "stderr",
     "output_type": "stream",
     "text": [
      "\n"
     ]
    },
    {
     "name": "stdout",
     "output_type": "stream",
     "text": [
      "Data saved to stock_data\\Oil Gas & Consumable Fuels\\COALINDIA.csv\n",
      "Fetching data for GAIL.NS...\n"
     ]
    },
    {
     "name": "stderr",
     "output_type": "stream",
     "text": [
      "[*********************100%%**********************]  1 of 1 completed\n"
     ]
    },
    {
     "name": "stdout",
     "output_type": "stream",
     "text": [
      "Data saved to stock_data\\Oil Gas & Consumable Fuels\\GAIL.csv\n",
      "Fetching data for GUJGASLTD.NS...\n"
     ]
    },
    {
     "name": "stderr",
     "output_type": "stream",
     "text": [
      "[*********************100%%**********************]  1 of 1 completed\n"
     ]
    },
    {
     "name": "stdout",
     "output_type": "stream",
     "text": [
      "Data saved to stock_data\\Oil Gas & Consumable Fuels\\GUJGASLTD.csv\n",
      "Fetching data for GSPL.NS...\n"
     ]
    },
    {
     "name": "stderr",
     "output_type": "stream",
     "text": [
      "[*********************100%%**********************]  1 of 1 completed\n"
     ]
    },
    {
     "name": "stdout",
     "output_type": "stream",
     "text": [
      "Data saved to stock_data\\Oil Gas & Consumable Fuels\\GSPL.csv\n",
      "Fetching data for HINDPETRO.NS...\n"
     ]
    },
    {
     "name": "stderr",
     "output_type": "stream",
     "text": [
      "[*********************100%%**********************]  1 of 1 completed\n"
     ]
    },
    {
     "name": "stdout",
     "output_type": "stream",
     "text": [
      "Data saved to stock_data\\Oil Gas & Consumable Fuels\\HINDPETRO.csv\n",
      "Fetching data for IOC.NS...\n"
     ]
    },
    {
     "name": "stderr",
     "output_type": "stream",
     "text": [
      "[*********************100%%**********************]  1 of 1 completed\n",
      "[*********************100%%**********************]  1 of 1 completed"
     ]
    },
    {
     "name": "stdout",
     "output_type": "stream",
     "text": [
      "Data saved to stock_data\\Oil Gas & Consumable Fuels\\IOC.csv\n",
      "Fetching data for IGL.NS...\n"
     ]
    },
    {
     "name": "stderr",
     "output_type": "stream",
     "text": [
      "\n",
      "[*********************100%%**********************]  1 of 1 completed"
     ]
    },
    {
     "name": "stdout",
     "output_type": "stream",
     "text": [
      "Data saved to stock_data\\Oil Gas & Consumable Fuels\\IGL.csv\n",
      "Fetching data for MGL.NS...\n"
     ]
    },
    {
     "name": "stderr",
     "output_type": "stream",
     "text": [
      "\n",
      "[*********************100%%**********************]  1 of 1 completed"
     ]
    },
    {
     "name": "stdout",
     "output_type": "stream",
     "text": [
      "Data saved to stock_data\\Oil Gas & Consumable Fuels\\MGL.csv\n",
      "Fetching data for MRPL.NS...\n",
      "Data saved to stock_data\\Oil Gas & Consumable Fuels\\MRPL.csv\n",
      "Fetching data for ONGC.NS...\n"
     ]
    },
    {
     "name": "stderr",
     "output_type": "stream",
     "text": [
      "\n",
      "[*********************100%%**********************]  1 of 1 completed\n"
     ]
    },
    {
     "name": "stdout",
     "output_type": "stream",
     "text": [
      "Data saved to stock_data\\Oil Gas & Consumable Fuels\\ONGC.csv\n",
      "Fetching data for OIL.NS...\n"
     ]
    },
    {
     "name": "stderr",
     "output_type": "stream",
     "text": [
      "[*********************100%%**********************]  1 of 1 completed\n",
      "[*********************100%%**********************]  1 of 1 completed"
     ]
    },
    {
     "name": "stdout",
     "output_type": "stream",
     "text": [
      "Data saved to stock_data\\Oil Gas & Consumable Fuels\\OIL.csv\n",
      "Fetching data for PETRONET.NS...\n",
      "Data saved to stock_data\\Oil Gas & Consumable Fuels\\PETRONET.csv\n",
      "Fetching data for RELIANCE.NS...\n"
     ]
    },
    {
     "name": "stderr",
     "output_type": "stream",
     "text": [
      "\n",
      "[*********************100%%**********************]  1 of 1 completed\n",
      "[*********************100%%**********************]  1 of 1 completed\n"
     ]
    },
    {
     "name": "stdout",
     "output_type": "stream",
     "text": [
      "Data saved to stock_data\\Oil Gas & Consumable Fuels\\RELIANCE.csv\n",
      "Fetching data for ADANIENSOL.NS...\n",
      "Data saved to stock_data\\Power\\ADANIENSOL.csv\n",
      "Fetching data for ADANIGREEN.NS...\n"
     ]
    },
    {
     "name": "stderr",
     "output_type": "stream",
     "text": [
      "[*********************100%%**********************]  1 of 1 completed\n",
      "[*********************100%%**********************]  1 of 1 completed\n"
     ]
    },
    {
     "name": "stdout",
     "output_type": "stream",
     "text": [
      "Data saved to stock_data\\Power\\ADANIGREEN.csv\n",
      "Fetching data for ADANIPOWER.NS...\n",
      "Data saved to stock_data\\Power\\ADANIPOWER.csv\n",
      "Fetching data for CESC.NS...\n"
     ]
    },
    {
     "name": "stderr",
     "output_type": "stream",
     "text": [
      "[*********************100%%**********************]  1 of 1 completed\n",
      "[*********************100%%**********************]  1 of 1 completed\n"
     ]
    },
    {
     "name": "stdout",
     "output_type": "stream",
     "text": [
      "Data saved to stock_data\\Power\\CESC.csv\n",
      "Fetching data for JSWENERGY.NS...\n",
      "Data saved to stock_data\\Power\\JSWENERGY.csv\n",
      "Fetching data for NHPC.NS...\n"
     ]
    },
    {
     "name": "stderr",
     "output_type": "stream",
     "text": [
      "[*********************100%%**********************]  1 of 1 completed\n",
      "[*********************100%%**********************]  1 of 1 completed"
     ]
    },
    {
     "name": "stdout",
     "output_type": "stream",
     "text": [
      "Data saved to stock_data\\Power\\NHPC.csv\n",
      "Fetching data for NLCINDIA.NS...\n",
      "Data saved to stock_data\\Power\\NLCINDIA.csv\n",
      "Fetching data for NTPC.NS...\n"
     ]
    },
    {
     "name": "stderr",
     "output_type": "stream",
     "text": [
      "\n",
      "[*********************100%%**********************]  1 of 1 completed\n",
      "[*********************100%%**********************]  1 of 1 completed"
     ]
    },
    {
     "name": "stdout",
     "output_type": "stream",
     "text": [
      "Data saved to stock_data\\Power\\NTPC.csv\n",
      "Fetching data for POWERGRID.NS...\n"
     ]
    },
    {
     "name": "stderr",
     "output_type": "stream",
     "text": [
      "\n",
      "[*********************100%%**********************]  1 of 1 completed\n"
     ]
    },
    {
     "name": "stdout",
     "output_type": "stream",
     "text": [
      "Data saved to stock_data\\Power\\POWERGRID.csv\n",
      "Fetching data for SJVN.NS...\n",
      "Data saved to stock_data\\Power\\SJVN.csv\n",
      "Fetching data for TATAPOWER.NS...\n"
     ]
    },
    {
     "name": "stderr",
     "output_type": "stream",
     "text": [
      "[*********************100%%**********************]  1 of 1 completed\n",
      "[*********************100%%**********************]  1 of 1 completed\n"
     ]
    },
    {
     "name": "stdout",
     "output_type": "stream",
     "text": [
      "Data saved to stock_data\\Power\\TATAPOWER.csv\n",
      "Fetching data for TORNTPOWER.NS...\n",
      "Data saved to stock_data\\Power\\TORNTPOWER.csv\n",
      "Fetching data for BRIGADE.NS...\n"
     ]
    },
    {
     "name": "stderr",
     "output_type": "stream",
     "text": [
      "[*********************100%%**********************]  1 of 1 completed\n",
      "[*********************100%%**********************]  1 of 1 completed\n"
     ]
    },
    {
     "name": "stdout",
     "output_type": "stream",
     "text": [
      "Data saved to stock_data\\Realty\\BRIGADE.csv\n",
      "Fetching data for DLF.NS...\n",
      "Data saved to stock_data\\Realty\\DLF.csv\n",
      "Fetching data for GODREJPROP.NS...\n"
     ]
    },
    {
     "name": "stderr",
     "output_type": "stream",
     "text": [
      "[*********************100%%**********************]  1 of 1 completed\n",
      "[*********************100%%**********************]  1 of 1 completed\n"
     ]
    },
    {
     "name": "stdout",
     "output_type": "stream",
     "text": [
      "Data saved to stock_data\\Realty\\GODREJPROP.csv\n",
      "Fetching data for LODHA.NS...\n",
      "Data saved to stock_data\\Realty\\LODHA.csv\n",
      "Fetching data for MAHLIFE.NS...\n"
     ]
    },
    {
     "name": "stderr",
     "output_type": "stream",
     "text": [
      "[*********************100%%**********************]  1 of 1 completed\n",
      "[*********************100%%**********************]  1 of 1 completed"
     ]
    },
    {
     "name": "stdout",
     "output_type": "stream",
     "text": [
      "Data saved to stock_data\\Realty\\MAHLIFE.csv\n",
      "Fetching data for OBEROIRLTY.NS...\n"
     ]
    },
    {
     "name": "stderr",
     "output_type": "stream",
     "text": [
      "\n",
      "[*********************100%%**********************]  1 of 1 completed\n"
     ]
    },
    {
     "name": "stdout",
     "output_type": "stream",
     "text": [
      "Data saved to stock_data\\Realty\\OBEROIRLTY.csv\n",
      "Fetching data for PHOENIXLTD.NS...\n",
      "Data saved to stock_data\\Realty\\PHOENIXLTD.csv\n",
      "Fetching data for PRESTIGE.NS...\n"
     ]
    },
    {
     "name": "stderr",
     "output_type": "stream",
     "text": [
      "[*********************100%%**********************]  1 of 1 completed\n",
      "[*********************100%%**********************]  1 of 1 completed\n"
     ]
    },
    {
     "name": "stdout",
     "output_type": "stream",
     "text": [
      "Data saved to stock_data\\Realty\\PRESTIGE.csv\n",
      "Fetching data for RAYMOND.NS...\n",
      "Data saved to stock_data\\Realty\\RAYMOND.csv\n",
      "Fetching data for SIGNATURE.NS...\n"
     ]
    },
    {
     "name": "stderr",
     "output_type": "stream",
     "text": [
      "[*********************100%%**********************]  1 of 1 completed\n",
      "[*********************100%%**********************]  1 of 1 completed\n"
     ]
    },
    {
     "name": "stdout",
     "output_type": "stream",
     "text": [
      "Data saved to stock_data\\Realty\\SIGNATURE.csv\n",
      "Fetching data for SOBHA.NS...\n",
      "Data saved to stock_data\\Realty\\SOBHA.csv\n",
      "Fetching data for SUNTECK.NS...\n"
     ]
    },
    {
     "name": "stderr",
     "output_type": "stream",
     "text": [
      "[*********************100%%**********************]  1 of 1 completed\n",
      "[*********************100%%**********************]  1 of 1 completed\n"
     ]
    },
    {
     "name": "stdout",
     "output_type": "stream",
     "text": [
      "Data saved to stock_data\\Realty\\SUNTECK.csv\n",
      "Fetching data for ADANIPORTS.NS...\n",
      "Data saved to stock_data\\Services\\ADANIPORTS.csv\n",
      "Fetching data for ALLCARGO.NS...\n"
     ]
    },
    {
     "name": "stderr",
     "output_type": "stream",
     "text": [
      "[*********************100%%**********************]  1 of 1 completed\n",
      "[*********************100%%**********************]  1 of 1 completed\n"
     ]
    },
    {
     "name": "stdout",
     "output_type": "stream",
     "text": [
      "Data saved to stock_data\\Services\\ALLCARGO.csv\n",
      "Fetching data for BLUEDART.NS...\n",
      "Data saved to stock_data\\Services\\BLUEDART.csv\n",
      "Fetching data for CONCOR.NS...\n"
     ]
    },
    {
     "name": "stderr",
     "output_type": "stream",
     "text": [
      "[*********************100%%**********************]  1 of 1 completed\n",
      "[*********************100%%**********************]  1 of 1 completed\n"
     ]
    },
    {
     "name": "stdout",
     "output_type": "stream",
     "text": [
      "Data saved to stock_data\\Services\\CONCOR.csv\n",
      "Fetching data for DELHIVERY.NS...\n",
      "Data saved to stock_data\\Services\\DELHIVERY.csv\n",
      "Fetching data for FSL.NS...\n"
     ]
    },
    {
     "name": "stderr",
     "output_type": "stream",
     "text": [
      "[*********************100%%**********************]  1 of 1 completed\n",
      "[*********************100%%**********************]  1 of 1 completed\n"
     ]
    },
    {
     "name": "stdout",
     "output_type": "stream",
     "text": [
      "Data saved to stock_data\\Services\\FSL.csv\n",
      "Fetching data for GMRINFRA.NS...\n",
      "Data saved to stock_data\\Services\\GMRINFRA.csv\n",
      "Fetching data for GESHIP.NS...\n"
     ]
    },
    {
     "name": "stderr",
     "output_type": "stream",
     "text": [
      "[*********************100%%**********************]  1 of 1 completed\n",
      "[*********************100%%**********************]  1 of 1 completed\n"
     ]
    },
    {
     "name": "stdout",
     "output_type": "stream",
     "text": [
      "Data saved to stock_data\\Services\\GESHIP.csv\n",
      "Fetching data for GPPL.NS...\n",
      "Data saved to stock_data\\Services\\GPPL.csv\n",
      "Fetching data for INDIGO.NS...\n"
     ]
    },
    {
     "name": "stderr",
     "output_type": "stream",
     "text": [
      "[*********************100%%**********************]  1 of 1 completed\n",
      "[*********************100%%**********************]  1 of 1 completed\n"
     ]
    },
    {
     "name": "stdout",
     "output_type": "stream",
     "text": [
      "Data saved to stock_data\\Services\\INDIGO.csv\n",
      "Fetching data for JSWINFRA.NS...\n",
      "Data saved to stock_data\\Services\\JSWINFRA.csv\n",
      "Fetching data for MMTC.NS...\n"
     ]
    },
    {
     "name": "stderr",
     "output_type": "stream",
     "text": [
      "[*********************100%%**********************]  1 of 1 completed\n",
      "[*********************100%%**********************]  1 of 1 completed\n"
     ]
    },
    {
     "name": "stdout",
     "output_type": "stream",
     "text": [
      "Data saved to stock_data\\Services\\MMTC.csv\n",
      "Fetching data for QUESS.NS...\n",
      "Data saved to stock_data\\Services\\QUESS.csv\n",
      "Fetching data for REDINGTON.NS...\n"
     ]
    },
    {
     "name": "stderr",
     "output_type": "stream",
     "text": [
      "[*********************100%%**********************]  1 of 1 completed\n",
      "[*********************100%%**********************]  1 of 1 completed\n"
     ]
    },
    {
     "name": "stdout",
     "output_type": "stream",
     "text": [
      "Data saved to stock_data\\Services\\REDINGTON.csv\n",
      "Fetching data for TVSSCS.NS...\n",
      "Data saved to stock_data\\Services\\TVSSCS.csv\n",
      "Fetching data for ECLERX.NS...\n"
     ]
    },
    {
     "name": "stderr",
     "output_type": "stream",
     "text": [
      "[*********************100%%**********************]  1 of 1 completed\n",
      "[*********************100%%**********************]  1 of 1 completed"
     ]
    },
    {
     "name": "stdout",
     "output_type": "stream",
     "text": [
      "Data saved to stock_data\\Services\\ECLERX.csv\n",
      "Fetching data for BHARTIARTL.NS...\n"
     ]
    },
    {
     "name": "stderr",
     "output_type": "stream",
     "text": [
      "\n",
      "[*********************100%%**********************]  1 of 1 completed\n"
     ]
    },
    {
     "name": "stdout",
     "output_type": "stream",
     "text": [
      "Data saved to stock_data\\Telecommunication\\BHARTIARTL.csv\n",
      "Fetching data for HFCL.NS...\n",
      "Data saved to stock_data\\Telecommunication\\HFCL.csv\n",
      "Fetching data for ITI.NS...\n"
     ]
    },
    {
     "name": "stderr",
     "output_type": "stream",
     "text": [
      "[*********************100%%**********************]  1 of 1 completed\n",
      "[*********************100%%**********************]  1 of 1 completed\n"
     ]
    },
    {
     "name": "stdout",
     "output_type": "stream",
     "text": [
      "Data saved to stock_data\\Telecommunication\\ITI.csv\n",
      "Fetching data for INDUSTOWER.NS...\n",
      "Data saved to stock_data\\Telecommunication\\INDUSTOWER.csv\n",
      "Fetching data for RAILTEL.NS...\n"
     ]
    },
    {
     "name": "stderr",
     "output_type": "stream",
     "text": [
      "[*********************100%%**********************]  1 of 1 completed\n",
      "[*********************100%%**********************]  1 of 1 completed\n"
     ]
    },
    {
     "name": "stdout",
     "output_type": "stream",
     "text": [
      "Data saved to stock_data\\Telecommunication\\RAILTEL.csv\n",
      "Fetching data for ROUTE.NS...\n",
      "Data saved to stock_data\\Telecommunication\\ROUTE.csv\n",
      "Fetching data for STLTECH.NS...\n"
     ]
    },
    {
     "name": "stderr",
     "output_type": "stream",
     "text": [
      "[*********************100%%**********************]  1 of 1 completed\n"
     ]
    },
    {
     "name": "stdout",
     "output_type": "stream",
     "text": [
      "Data saved to stock_data\\Telecommunication\\STLTECH.csv\n",
      "Fetching data for TATACOMM.NS...\n"
     ]
    },
    {
     "name": "stderr",
     "output_type": "stream",
     "text": [
      "[*********************100%%**********************]  1 of 1 completed\n",
      "[*********************100%%**********************]  1 of 1 completed\n"
     ]
    },
    {
     "name": "stdout",
     "output_type": "stream",
     "text": [
      "Data saved to stock_data\\Telecommunication\\TATACOMM.csv\n",
      "Fetching data for TTML.NS...\n",
      "Data saved to stock_data\\Telecommunication\\TTML.csv\n",
      "Fetching data for TEJASNET.NS...\n"
     ]
    },
    {
     "name": "stderr",
     "output_type": "stream",
     "text": [
      "[*********************100%%**********************]  1 of 1 completed\n",
      "[*********************100%%**********************]  1 of 1 completed\n"
     ]
    },
    {
     "name": "stdout",
     "output_type": "stream",
     "text": [
      "Data saved to stock_data\\Telecommunication\\TEJASNET.csv\n",
      "Fetching data for IDEA.NS...\n",
      "Data saved to stock_data\\Telecommunication\\IDEA.csv\n",
      "Fetching data for ALOKINDS.NS...\n"
     ]
    },
    {
     "name": "stderr",
     "output_type": "stream",
     "text": [
      "[*********************100%%**********************]  1 of 1 completed\n"
     ]
    },
    {
     "name": "stdout",
     "output_type": "stream",
     "text": [
      "Data saved to stock_data\\Textiles\\ALOKINDS.csv\n",
      "Fetching data for KPRMILL.NS...\n"
     ]
    },
    {
     "name": "stderr",
     "output_type": "stream",
     "text": [
      "[*********************100%%**********************]  1 of 1 completed\n"
     ]
    },
    {
     "name": "stdout",
     "output_type": "stream",
     "text": [
      "Data saved to stock_data\\Textiles\\KPRMILL.csv\n",
      "Fetching data for PAGEIND.NS...\n"
     ]
    },
    {
     "name": "stderr",
     "output_type": "stream",
     "text": [
      "[*********************100%%**********************]  1 of 1 completed\n"
     ]
    },
    {
     "name": "stdout",
     "output_type": "stream",
     "text": [
      "Data saved to stock_data\\Textiles\\PAGEIND.csv\n",
      "Fetching data for TRIDENT.NS...\n"
     ]
    },
    {
     "name": "stderr",
     "output_type": "stream",
     "text": [
      "[*********************100%%**********************]  1 of 1 completed\n"
     ]
    },
    {
     "name": "stdout",
     "output_type": "stream",
     "text": [
      "Data saved to stock_data\\Textiles\\TRIDENT.csv\n",
      "Fetching data for VTL.NS...\n"
     ]
    },
    {
     "name": "stderr",
     "output_type": "stream",
     "text": [
      "[*********************100%%**********************]  1 of 1 completed\n",
      "[*********************100%%**********************]  1 of 1 completed"
     ]
    },
    {
     "name": "stdout",
     "output_type": "stream",
     "text": [
      "Data saved to stock_data\\Textiles\\VTL.csv\n",
      "Fetching data for WELSPUNLIV.NS...\n",
      "Data saved to stock_data\\Textiles\\WELSPUNLIV.csv\n",
      "Data fetching and saving complete.\n"
     ]
    },
    {
     "name": "stderr",
     "output_type": "stream",
     "text": [
      "\n"
     ]
    }
   ],
   "source": [
    "def fetch_and_save_stock_data(tickers, start_date, end_date, data_dir):\n",
    "    \"\"\"Fetch historical stock data from Yahoo Finance and save to CSV files.\"\"\"\n",
    "    for sector, tickers_list in tickers.items():\n",
    "        sector_dir = os.path.join(data_dir, sector)\n",
    "        os.makedirs(sector_dir, exist_ok=True)\n",
    "        for ticker in tickers_list:\n",
    "            # Append '.NS' to the ticker symbol\n",
    "            ticker_with_ns = f\"{ticker}.NS\"\n",
    "            print(f\"Fetching data for {ticker_with_ns}...\")\n",
    "            try:\n",
    "                # Fetch the data\n",
    "                data = yf.download(ticker_with_ns, start=start_date, end=end_date)\n",
    "                # Save to CSV\n",
    "                file_path = os.path.join(sector_dir, f'{ticker}.csv')\n",
    "                data.to_csv(file_path)\n",
    "                print(f\"Data saved to {file_path}\")\n",
    "            except Exception as e:\n",
    "                print(f\"Failed to fetch data for {ticker_with_ns}: {e}\")\n",
    "\n",
    "# Define the time period for data collection\n",
    "start_date = '2019-01-01'\n",
    "end_date = datetime.now().strftime('%Y-%m-%d')\n",
    "\n",
    "data_dir = 'stock_data'\n",
    "\n",
    "fetch_and_save_stock_data(sector_tickers, start_date, end_date, data_dir)\n",
    "print(\"Data fetching and saving complete.\")"
   ]
  },
  {
   "cell_type": "code",
   "execution_count": 1,
   "metadata": {},
   "outputs": [
    {
     "name": "stdout",
     "output_type": "stream",
     "text": [
      "Saved master data to D:/wall street/stock_data\\master_stock_data.csv\n",
      "Master CSV file creation complete.\n"
     ]
    }
   ],
   "source": [
    "import pandas as pd\n",
    "import os\n",
    "\n",
    "# Path to the CSV file\n",
    "csv_file_path = 'D:/rupeelog/repo/projectdata/code/live_data/ind_nifty500list.csv'\n",
    "\n",
    "# Read the CSV file into a DataFrame\n",
    "df = pd.read_csv(csv_file_path)\n",
    "\n",
    "# Directory to save the master CSV file\n",
    "output_dir = 'D:/wall street/stock_data'\n",
    "os.makedirs(output_dir, exist_ok=True)\n",
    "\n",
    "# Group by the 'Industry' column\n",
    "grouped = df.groupby('Industry')\n",
    "\n",
    "# Initialize a list to hold DataFrames for each industry\n",
    "industry_data_frames = []\n",
    "\n",
    "# Process each industry group\n",
    "for industry, group in grouped:\n",
    "    # Clean the industry name to ensure it is a valid filename\n",
    "    clean_industry = industry.replace('/', '_').replace(' ', '_').replace(':', '_').replace('|', '_')\n",
    "    \n",
    "    # Add a column for the industry name\n",
    "    group['Industry'] = industry\n",
    "    \n",
    "    # Append the DataFrame to the list\n",
    "    industry_data_frames.append(group)\n",
    "\n",
    "# Concatenate all industry DataFrames into a single DataFrame\n",
    "master_df = pd.concat(industry_data_frames, ignore_index=True)\n",
    "\n",
    "# Define file path for the master CSV file\n",
    "master_file_path = os.path.join(output_dir, 'master_stock_data.csv')\n",
    "\n",
    "# Save the master CSV file\n",
    "master_df.to_csv(master_file_path, index=False)\n",
    "print(f'Saved master data to {master_file_path}')\n",
    "\n",
    "print(\"Master CSV file creation complete.\")"
   ]
  }
 ],
 "metadata": {
  "kernelspec": {
   "display_name": "base",
   "language": "python",
   "name": "python3"
  },
  "language_info": {
   "codemirror_mode": {
    "name": "ipython",
    "version": 3
   },
   "file_extension": ".py",
   "mimetype": "text/x-python",
   "name": "python",
   "nbconvert_exporter": "python",
   "pygments_lexer": "ipython3",
   "version": "3.11.5"
  }
 },
 "nbformat": 4,
 "nbformat_minor": 2
}
